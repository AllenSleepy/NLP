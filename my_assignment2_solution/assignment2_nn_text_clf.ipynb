{
 "cells": [
  {
   "cell_type": "markdown",
   "metadata": {},
   "source": [
    "# [COM4513-6513] Assignment 2: Text Classification with a Feedforward Network\n",
    "\n",
    "\n",
    "### Instructor: Nikos Aletras\n",
    "\n",
    "\n",
    "The goal of this assignment is to develop a Feedforward network for text classification. \n",
    "\n",
    "\n",
    "\n",
    "For that purpose, you will implement:\n",
    "\n",
    "- Text processing methods for transforming raw text data into input vectors for your network  (**1 mark**)\n",
    "- A Feedforward network consisting of:\n",
    "    - **One-hot** input layer mapping words into an **Embedding weight matrix** (**1 mark**)\n",
    "    - **One hidden layer** computing the mean embedding vector of all words in input followed by a **ReLU activation function** (**1 mark**)\n",
    "    - **Output layer** with a **softmax** activation. (**1 mark**)\n",
    "- The Stochastic Gradient Descent (SGD) algorithm with **back-propagation** to learn the weights of your Neural network. Your algorithm should:\n",
    "    - Use (and minimise) the **Categorical Cross-entropy loss** function (**1 mark**)\n",
    "    - Perform a **Forward pass** to compute intermediate outputs (**4 marks**)\n",
    "    - Perform a **Backward pass** to compute gradients and update all sets of weights (**4 marks**)\n",
    "    - Implement and use **Dropout** after each hidden layer for regularisation (**2 marks**)\n",
    "- Discuss how did you choose hyperparameters? You can tune the learning rate (hint: choose small values), embedding size {e.g. 50, 300, 500}, the dropout rate {e.g. 0.2, 0.5} and the learning rate. Please use tables or graphs to show training and validation performance for each hyperparam combination  (**2 marks**). \n",
    "- After training the model, plot the learning process (i.e. training and validation loss in each epoch) using a line plot and report accuracy.\n",
    "- Re-train your network by using pre-trained embeddings ([GloVe](https://nlp.stanford.edu/projects/glove/)) trained on large corpora. Instead of randomly initialising the embedding weights matrix, you should initialise it with the pre-trained weights. During training, you should not update them (i.e. weight freezing) and backprop should stop before computing gradients for updating embedding weights. Report results by performing hyperparameter tuning and plotting the learning process. Do you get better performance? (**3 marks**).\n",
    "\n",
    "- **BONUS:** Extend you Feedforward network by adding more hidden layers (e.g. one more). How does it affect the performance? Note: You need to repeat hyperparameter tuning, but the number of combinations grows exponentially. Therefore, you need to choose a subset of all possible combinations (**+2 extra marks**)\n",
    "\n",
    "\n",
    "\n",
    "### Data \n",
    "\n",
    "The data you will use for Task 2 is a subset of the [AG News Corpus](http://groups.di.unipi.it/~gulli/AG_corpus_of_news_articles.html) and you can find it in the `./data_topic` folder in CSV format:\n",
    "\n",
    "- `data_topic/train.csv`: contains 2,400 news articles, 800 for each class to be used for training.\n",
    "- `data_topic/dev.csv`: contains 150 news articles, 50 for each class to be used for hyperparameter selection and monitoring the training process.\n",
    "- `data_topic/test.csv`: contains 900 news articles, 300 for each class to be used for testing.\n",
    "\n",
    "### Pre-trained Embeddings\n",
    "\n",
    "You can download pre-trained GloVe embeddings trained on Common Crawl (840B tokens, 2.2M vocab, cased, 300d vectors, 2.03 GB download) from [here](http://nlp.stanford.edu/data/glove.840B.300d.zip). No need to unzip, the file is large.\n",
    "\n",
    "### Save Memory\n",
    "\n",
    "To save RAM, when you finish each experiment you can delete the weights of your network using `del W` followed by Python's garbage collector `gc.collect()`\n",
    "\n",
    "\n",
    "\n",
    "\n",
    "### Submission Instructions\n",
    "\n",
    "You should submit a Jupyter Notebook file (assignment2.ipynb) and an exported PDF version (you can do it from Jupyter: `File->Download as->PDF via Latex`).\n",
    "\n",
    "You are advised to follow the code structure given in this notebook by completing all given funtions. You can also write any auxilliary/helper functions (and arguments for the functions) that you might need but note that you can provide a full solution without any such functions. Similarly, you can just use only the packages imported below but you are free to use any functionality from the [Python Standard Library](https://docs.python.org/2/library/index.html), NumPy, SciPy and Pandas. You are not allowed to use any third-party library such as Scikit-learn (apart from metric functions already provided), NLTK, Spacy, Keras etc.. You are allowed to re-use your code from Assignment 1.\n",
    "\n",
    "Please make sure to comment your code. You should also mention if you've used Windows to write and test your code. There is no single correct answer on what your accuracy should be, but correct implementations usually achieve F1 of ~75-80% and ~85% without and with using pre-trained embeddings respectively. \n",
    "\n",
    "This assignment will be marked out of 20. It is worth 20\\% of your final grade in the module. If you implement the bonus question you can get up to 2 extra points but your final grade will be capped at 20.\n",
    "\n",
    "The deadline for this assignment is **23:59 on Mon, 18 May 2020** and it needs to be submitted via Blackboard (MOLE). Standard departmental penalties for lateness will be applied. We use a range of strategies to detect [unfair means](https://www.sheffield.ac.uk/ssid/unfair-means/index), including Turnitin which helps detect plagiarism, so make sure you do not plagiarise.\n",
    "\n"
   ]
  },
  {
   "cell_type": "code",
   "execution_count": 2,
   "metadata": {
    "ExecuteTime": {
     "end_time": "2020-04-02T15:00:18.625532Z",
     "start_time": "2020-04-02T15:00:17.377733Z"
    }
   },
   "outputs": [],
   "source": [
    "import pandas as pd\n",
    "import numpy as np\n",
    "from collections import Counter\n",
    "import re\n",
    "import matplotlib.pyplot as plt\n",
    "from sklearn.metrics import accuracy_score, precision_score, recall_score, f1_score\n",
    "import random\n",
    "from time import localtime, strftime\n",
    "from scipy.stats import spearmanr,pearsonr\n",
    "import zipfile\n",
    "import gc\n",
    "\n",
    "# fixing random seed for reproducibility\n",
    "random.seed(123)\n",
    "np.random.seed(123)\n"
   ]
  },
  {
   "cell_type": "markdown",
   "metadata": {},
   "source": [
    "## Transform Raw texts into training and development data\n",
    "\n",
    "First, you need to load the training, development and test sets from their corresponding CSV files (tip: you can use Pandas dataframes)."
   ]
  },
  {
   "cell_type": "code",
   "execution_count": 3,
   "metadata": {
    "ExecuteTime": {
     "end_time": "2020-04-02T14:26:39.748484Z",
     "start_time": "2020-04-02T14:26:39.727404Z"
    }
   },
   "outputs": [],
   "source": [
    "data_train = pd.read_csv('./data_topic/train.csv',names=['label','text'])\n",
    "data_dev = pd.read_csv('./data_topic/dev.csv',names=['label','text'])\n",
    "data_test = pd.read_csv('./data_topic/test.csv',names=['label','text'])"
   ]
  },
  {
   "cell_type": "code",
   "execution_count": 4,
   "metadata": {
    "ExecuteTime": {
     "end_time": "2020-04-02T14:26:39.753874Z",
     "start_time": "2020-04-02T14:26:39.749647Z"
    }
   },
   "outputs": [],
   "source": [
    "train_text = list(data_train['text'])\n",
    "train_label = data_train['label'].values - 1\n",
    "train_text = [word.lower() for word in train_text]\n",
    "\n",
    "dev_text = list(data_dev['text'])\n",
    "dev_label = data_dev['label'].values - 1\n",
    "dev_text = [word.lower() for word in dev_text]\n",
    "\n",
    "test_text = list(data_test['text'])\n",
    "test_label = data_test['label'].values - 1\n",
    "test_text = [word.lower() for word in test_text]"
   ]
  },
  {
   "cell_type": "markdown",
   "metadata": {},
   "source": [
    "# Create input representations\n",
    "\n",
    "\n",
    "To train your Feedforward network, you first need to obtain input representations given a vocabulary. One-hot encoding requires large memory capacity. Therefore, we will instead represent documents as lists of vocabulary indices (each word corresponds to a vocabulary index). \n",
    "\n",
    "\n",
    "## Text Pre-Processing Pipeline\n",
    "\n",
    "To obtain a vocabulary of words. You should: \n",
    "- tokenise all texts into a list of unigrams (tip: you can re-use the functions from Assignment 1) \n",
    "- remove stop words (using the one provided or one of your preference) \n",
    "- remove unigrams appearing in less than K documents\n",
    "- use the remaining to create a vocabulary of the top-N most frequent unigrams in the entire corpus.\n"
   ]
  },
  {
   "cell_type": "code",
   "execution_count": 5,
   "metadata": {
    "ExecuteTime": {
     "end_time": "2020-04-02T14:26:40.851926Z",
     "start_time": "2020-04-02T14:26:40.847500Z"
    }
   },
   "outputs": [],
   "source": [
    "stop_words = ['a','in','on','at','and','or', \n",
    "              'to', 'the', 'of', 'an', 'by', \n",
    "              'as', 'is', 'was', 'were', 'been', 'be', \n",
    "              'are','for', 'this', 'that', 'these', 'those', 'you', 'i', 'if',\n",
    "             'it', 'he', 'she', 'we', 'they', 'will', 'have', 'has',\n",
    "              'do', 'did', 'can', 'could', 'who', 'which', 'what',\n",
    "              'but', 'not', 'there', 'no', 'does', 'not', 'so', 've', 'their',\n",
    "             'his', 'her', 'they', 'them', 'from', 'with', 'its']\n"
   ]
  },
  {
   "cell_type": "markdown",
   "metadata": {},
   "source": [
    "### Unigram extraction from a document\n",
    "\n",
    "You first need to implement the `extract_ngrams` function. It takes as input:\n",
    "- `x_raw`: a string corresponding to the raw text of a document\n",
    "- `ngram_range`: a tuple of two integers denoting the type of ngrams you want to extract, e.g. (1,2) denotes extracting unigrams and bigrams.\n",
    "- `token_pattern`: a string to be used within a regular expression to extract all tokens. Note that data is already tokenised so you could opt for a simple white space tokenisation.\n",
    "- `stop_words`: a list of stop words\n",
    "- `vocab`: a given vocabulary. It should be used to extract specific features.\n",
    "\n",
    "and returns:\n",
    "\n",
    "- a list of all extracted features.\n"
   ]
  },
  {
   "cell_type": "code",
   "execution_count": 6,
   "metadata": {
    "ExecuteTime": {
     "end_time": "2020-04-02T14:26:41.505459Z",
     "start_time": "2020-04-02T14:26:41.498388Z"
    }
   },
   "outputs": [],
   "source": [
    "def extract_ngrams(x_raw, ngram_range=(1,3), token_pattern=r'\\b[A-Za-z][A-Za-z]+\\b', stop_words=[], vocab=set()):\n",
    "    \n",
    "    tokenized_list = re.findall(token_pattern, x_raw)\n",
    "    tokenized_list_without_sw = [word for word in tokenized_list if word not in stop_words] #eliminate stop words in tokenized_list\n",
    "    \n",
    "    ngram_list = []\n",
    "    for gram_num in range(ngram_range[0],ngram_range[1] + 1):\n",
    "        if gram_num == 1:\n",
    "            ngram_list = tokenized_list_without_sw[:] #unigrams\n",
    "            continue\n",
    "        else:\n",
    "            for i in range(len(tokenized_list_without_sw) - (gram_num - 1)):\n",
    "                ngram_list.append(tuple(tokenized_list_without_sw[i:i + gram_num]))\n",
    "    if vocab == set():\n",
    "        return ngram_list\n",
    "    else:\n",
    "        ngram_list = [word for word in ngram_list if word in vocab] #elinimate grams not in vocabulary\n",
    "        return ngram_list\n",
    "    return x"
   ]
  },
  {
   "cell_type": "markdown",
   "metadata": {},
   "source": [
    "### Create a vocabulary of n-grams\n",
    "\n",
    "Then the `get_vocab` function will be used to (1) create a vocabulary of ngrams; (2) count the document frequencies of ngrams; (3) their raw frequency. It takes as input:\n",
    "- `X_raw`: a list of strings each corresponding to the raw text of a document\n",
    "- `ngram_range`: a tuple of two integers denoting the type of ngrams you want to extract, e.g. (1,2) denotes extracting unigrams and bigrams.\n",
    "- `token_pattern`: a string to be used within a regular expression to extract all tokens. Note that data is already tokenised so you could opt for a simple white space tokenisation.\n",
    "- `stop_words`: a list of stop words\n",
    "- `min_df`: keep ngrams with a minimum document frequency.\n",
    "- `keep_topN`: keep top-N more frequent ngrams.\n",
    "\n",
    "and returns:\n",
    "\n",
    "- `vocab`: a set of the n-grams that will be used as features.\n",
    "- `df`: a Counter (or dict) that contains ngrams as keys and their corresponding document frequency as values.\n",
    "- `ngram_counts`: counts of each ngram in vocab\n"
   ]
  },
  {
   "cell_type": "code",
   "execution_count": 7,
   "metadata": {
    "ExecuteTime": {
     "end_time": "2020-04-02T14:26:42.563876Z",
     "start_time": "2020-04-02T14:26:42.557967Z"
    }
   },
   "outputs": [],
   "source": [
    "def get_vocab(X_raw, ngram_range=(1,3), token_pattern=r'\\b[A-Za-z][A-Za-z]+\\b', \n",
    "              min_df=0, keep_topN=0, stop_words=[]):\n",
    "    ngram_list = []\n",
    "    for i in range(len(X_raw)):\n",
    "        temp_ngram = extract_ngrams(X_raw[i], ngram_range=ngram_range, stop_words=stop_words)\n",
    "        ngram_list.extend(list(set(temp_ngram)))\n",
    "    \n",
    "    df = Counter(ngram_list)\n",
    "    ngram_counts = df.most_common()[:keep_topN]\n",
    "    vocab = [ngram_counts[i][0] for i in range(len(ngram_counts))]\n",
    "    return vocab, df, ngram_counts\n"
   ]
  },
  {
   "cell_type": "markdown",
   "metadata": {},
   "source": [
    "Now you should use `get_vocab` to create your vocabulary and get document and raw frequencies of unigrams:"
   ]
  },
  {
   "cell_type": "code",
   "execution_count": 8,
   "metadata": {
    "ExecuteTime": {
     "end_time": "2020-04-02T14:26:43.577997Z",
     "start_time": "2020-04-02T14:26:43.478950Z"
    }
   },
   "outputs": [
    {
     "name": "stdout",
     "output_type": "stream",
     "text": [
      "8000\n",
      "\n",
      "['reuters', 'said', 'tuesday', 'wednesday', 'new', 'after', 'ap', 'athens', 'monday', 'first', 'two', 'york', 'over', 'us', 'olympic', 'inc', 'more', 'year', 'oil', 'prices', 'company', 'world', 'than', 'aug', 'about', 'had', 'one', 'united', 'sunday', 'out', 'into', 'against', 'up', 'second', 'last', 'president', 'stocks', 'gold', 'team', 'when', 'three', 'night', 'time', 'yesterday', 'games', 'olympics', 'states', 'greece', 'off', 'iraq', 'washington', 'percent', 'home', 'day', 'google', 'public', 'record', 'week', 'men', 'government', 'win', 'american', 'won', 'years', 'all', 'billion', 'shares', 'city', 'offering', 'officials', 'would', 'today', 'final', 'afp', 'gt', 'people', 'lt', 'medal', 'corp', 'sales', 'country', 'back', 'four', 'high', 'investor', 'com', 'minister', 'reported', 'month', 'initial', 'profit', 'ticker', 'al', 'million', 'top', 'before', 'china', 'him', 'national', 'najaf']\n",
      "\n",
      "[('reuters', 631), ('said', 432), ('tuesday', 413), ('wednesday', 344), ('new', 325), ('after', 295), ('ap', 275), ('athens', 245), ('monday', 221), ('first', 210)]\n"
     ]
    }
   ],
   "source": [
    "vocab, df, ngram_counts = get_vocab(train_text, ngram_range=(1,1), keep_topN=8000 , stop_words=stop_words)\n",
    "# total num of vocab = 8931\n",
    "print(len(vocab))\n",
    "print()\n",
    "print(list(vocab)[:100])\n",
    "print()\n",
    "print(df.most_common()[:10])"
   ]
  },
  {
   "cell_type": "markdown",
   "metadata": {},
   "source": [
    "Then, you need to create vocabulary id -> word and id -> word dictionaries for reference:"
   ]
  },
  {
   "cell_type": "code",
   "execution_count": 9,
   "metadata": {
    "ExecuteTime": {
     "end_time": "2020-04-02T14:26:44.069661Z",
     "start_time": "2020-04-02T14:26:44.065058Z"
    }
   },
   "outputs": [],
   "source": [
    "word2id = {}\n",
    "for i in range(len(vocab)):\n",
    "    word2id[vocab[i]] = i\n",
    "id2word = {}\n",
    "id2word = vocab[:]"
   ]
  },
  {
   "cell_type": "markdown",
   "metadata": {},
   "source": [
    "### Convert the list of unigrams  into a list of vocabulary indices"
   ]
  },
  {
   "cell_type": "markdown",
   "metadata": {},
   "source": [
    "Storing actual one-hot vectors into memory for all words in the entire data set is prohibitive. Instead, we will store word indices in the vocabulary and look-up the weight matrix. This is equivalent of doing a dot product between an one-hot vector and the weight matrix. \n",
    "\n",
    "First, represent documents in train, dev and test sets as lists of words in the vocabulary:"
   ]
  },
  {
   "cell_type": "code",
   "execution_count": 10,
   "metadata": {
    "ExecuteTime": {
     "end_time": "2020-04-02T14:26:45.047887Z",
     "start_time": "2020-04-02T14:26:44.920631Z"
    }
   },
   "outputs": [],
   "source": [
    "# create a function\n",
    "def data_ngrams(text):\n",
    "    ngrams = []\n",
    "    for i in range(len(text)):\n",
    "        ngrams.append(extract_ngrams(text[i], stop_words=stop_words, vocab=vocab))\n",
    "    return ngrams\n",
    "# extract ngrams\n",
    "X_uni_tr = data_ngrams(train_text)\n",
    "X_uni_dev = data_ngrams(dev_text)\n",
    "X_uni_test = data_ngrams(test_text)"
   ]
  },
  {
   "cell_type": "code",
   "execution_count": 11,
   "metadata": {
    "ExecuteTime": {
     "end_time": "2020-04-02T14:26:45.219580Z",
     "start_time": "2020-04-02T14:26:45.214630Z"
    }
   },
   "outputs": [
    {
     "data": {
      "text/plain": [
       "['reuters',\n",
       " 'venezuelans',\n",
       " 'turned',\n",
       " 'out',\n",
       " 'early',\n",
       " 'large',\n",
       " 'numbers',\n",
       " 'sunday',\n",
       " 'vote',\n",
       " 'historic',\n",
       " 'referendum',\n",
       " 'either',\n",
       " 'remove',\n",
       " 'left',\n",
       " 'wing',\n",
       " 'president',\n",
       " 'hugo',\n",
       " 'chavez',\n",
       " 'office',\n",
       " 'give',\n",
       " 'him',\n",
       " 'new',\n",
       " 'mandate',\n",
       " 'govern',\n",
       " 'next',\n",
       " 'two',\n",
       " 'years']"
      ]
     },
     "execution_count": 11,
     "metadata": {},
     "output_type": "execute_result"
    }
   ],
   "source": [
    "X_uni_tr[0]"
   ]
  },
  {
   "cell_type": "markdown",
   "metadata": {},
   "source": [
    "Then convert them into lists of indices in the vocabulary:"
   ]
  },
  {
   "cell_type": "code",
   "execution_count": 12,
   "metadata": {
    "ExecuteTime": {
     "end_time": "2020-04-02T14:26:45.752658Z",
     "start_time": "2020-04-02T14:26:45.730409Z"
    }
   },
   "outputs": [],
   "source": [
    "def words_vector(sentences, vocab, word2id):\n",
    "    sentences_ids = []\n",
    "    for sentence in sentences:\n",
    "        word_ids = []\n",
    "        for word in sentence:\n",
    "            if word in vocab:\n",
    "                word_id = word2id[word]\n",
    "            else:\n",
    "                word_id = len(vocab)\n",
    "            word_ids.append(word_id)\n",
    "        sentences_ids.append(word_ids)\n",
    "    return sentences_ids\n",
    "X_tr = words_vector(X_uni_tr, vocab, word2id)\n",
    "X_dev = words_vector(X_uni_dev, vocab, word2id)\n",
    "X_test = words_vector(X_uni_test, vocab, word2id)"
   ]
  },
  {
   "cell_type": "code",
   "execution_count": 13,
   "metadata": {
    "ExecuteTime": {
     "end_time": "2020-04-02T14:26:46.203894Z",
     "start_time": "2020-04-02T14:26:46.199850Z"
    }
   },
   "outputs": [
    {
     "data": {
      "text/plain": [
       "[0,\n",
       " 1011,\n",
       " 759,\n",
       " 29,\n",
       " 208,\n",
       " 1103,\n",
       " 1367,\n",
       " 28,\n",
       " 308,\n",
       " 816,\n",
       " 262,\n",
       " 1586,\n",
       " 2704,\n",
       " 108,\n",
       " 758,\n",
       " 35,\n",
       " 173,\n",
       " 175,\n",
       " 493,\n",
       " 701,\n",
       " 97,\n",
       " 4,\n",
       " 1221,\n",
       " 2203,\n",
       " 172,\n",
       " 10,\n",
       " 63]"
      ]
     },
     "execution_count": 13,
     "metadata": {},
     "output_type": "execute_result"
    }
   ],
   "source": [
    "X_tr[0]"
   ]
  },
  {
   "cell_type": "markdown",
   "metadata": {},
   "source": [
    "Put the labels `Y` for train, dev and test sets into arrays: "
   ]
  },
  {
   "cell_type": "code",
   "execution_count": 14,
   "metadata": {
    "ExecuteTime": {
     "end_time": "2020-04-02T15:03:13.183996Z",
     "start_time": "2020-04-02T15:03:13.077575Z"
    }
   },
   "outputs": [],
   "source": [
    "# alredy did this in the beginning\n",
    "Y_tr = train_label\n",
    "Y_dev = dev_label\n",
    "Y_te = test_label"
   ]
  },
  {
   "cell_type": "markdown",
   "metadata": {},
   "source": [
    "# Network Architecture\n",
    "\n",
    "Your network should pass each word index into its corresponding embedding by looking-up on the embedding matrix and then compute the first hidden layer $\\mathbf{h}_1$:\n",
    "\n",
    "$$\\mathbf{h}_1 = \\frac{1}{|x|}\\sum_i W^e_i, i \\in x$$\n",
    "\n",
    "where $|x|$ is the number of words in the document and $W^e$ is an embedding matrix $|V|\\times d$, $|V|$ is the size of the vocabulary and $d$ the embedding size.\n",
    "\n",
    "Then $\\mathbf{h}_1$ should be passed through a ReLU activation function:\n",
    "\n",
    "$$\\mathbf{a}_1 = relu(\\mathbf{h}_1)$$\n",
    "\n",
    "Finally the hidden layer is passed to the output layer:\n",
    "\n",
    "\n",
    "$$\\mathbf{y} = \\text{softmax}(\\mathbf{a}_1W^T) $$ \n",
    "where $W$ is a matrix $d \\times |{\\cal Y}|$, $|{\\cal Y}|$ is the number of classes.\n",
    "\n",
    "During training, $\\mathbf{a}_1$ should be multiplied with a dropout mask vector (elementwise) for regularisation before it is passed to the output layer.\n",
    "\n",
    "You can extend to a deeper architecture by passing a hidden layer to another one:\n",
    "\n",
    "$$\\mathbf{h_i} = \\mathbf{a}_{i-1}W_i^T $$\n",
    "\n",
    "$$\\mathbf{a_i} = relu(\\mathbf{h_i}) $$\n",
    "\n",
    "\n",
    "\n",
    "# Network Training\n",
    "\n",
    "First we need to define the parameters of our network by initiliasing the weight matrices. For that purpose, you should implement the `network_weights` function that takes as input:\n",
    "\n",
    "- `vocab_size`: the size of the vocabulary\n",
    "- `embedding_dim`: the size of the word embeddings\n",
    "- `hidden_dim`: a list of the sizes of any subsequent hidden layers (for the Bonus). Empty if there are no hidden layers between the average embedding and the output layer \n",
    "- `num_clusses`: the number of the classes for the output layer\n",
    "\n",
    "and returns:\n",
    "\n",
    "- `W`: a dictionary mapping from layer index (e.g. 0 for the embedding matrix) to the corresponding weight matrix initialised with small random numbers (hint: use numpy.random.uniform with from -0.1 to 0.1)\n",
    "\n",
    "See the examples below for expected outputs. Make sure that the dimensionality of each weight matrix is compatible with the previous and next weight matrix, otherwise you won't be able to perform forward and backward passes. Consider also using np.float32 precision to save memory."
   ]
  },
  {
   "cell_type": "code",
   "execution_count": 15,
   "metadata": {
    "ExecuteTime": {
     "end_time": "2020-04-02T15:09:10.086665Z",
     "start_time": "2020-04-02T15:09:10.083429Z"
    }
   },
   "outputs": [],
   "source": [
    "def network_weights(vocab_size=1000, embedding_dim=300, \n",
    "                    hidden_dim=[], num_classes=3, init_val = 0.5):\n",
    "    \n",
    "    W = []\n",
    "    size = (vocab_size, embedding_dim)\n",
    "    weight0 = np.random.uniform(-0.1,0.1,size).astype(np.float32)\n",
    "    W.append(weight0)\n",
    "    if len(hidden_dim) != 0:\n",
    "        for i in range(len(hidden_dim)):\n",
    "            if i == 0:\n",
    "                size = (embedding_dim,hidden_dim[0])\n",
    "                weight = np.random.uniform(-0.1,0.1,size).astype(np.float32)\n",
    "                W.append(weight)\n",
    "            else:\n",
    "                size = (hidden_dim[i-1],hidden_dim[i])\n",
    "                weight = np.random.uniform(-0.1,0.1,size).astype(np.float32)\n",
    "                W.append(weight)\n",
    "        size = (hidden_dim[-1],num_classes)\n",
    "        weight_hidden = np.random.uniform(-0.1,0.1,size).astype(np.float32)\n",
    "        W.append(weight_hidden)\n",
    "    else:\n",
    "        size = (embedding_dim,num_classes)\n",
    "        weight_out = np.random.uniform(-0.1,0.1,size).astype(np.float32)\n",
    "        W.append(weight_out)\n",
    "\n",
    "\n",
    "    return W\n",
    "    "
   ]
  },
  {
   "cell_type": "code",
   "execution_count": 16,
   "metadata": {
    "ExecuteTime": {
     "end_time": "2020-04-02T14:26:48.143236Z",
     "start_time": "2020-04-02T14:26:48.139381Z"
    }
   },
   "outputs": [
    {
     "name": "stdout",
     "output_type": "stream",
     "text": [
      "W_emb: (5, 10)\n",
      "W_out: (10, 2)\n"
     ]
    }
   ],
   "source": [
    "W = network_weights(vocab_size=5,embedding_dim=10,hidden_dim=[], num_classes=2)\n",
    "\n",
    "print('W_emb:', W[0].shape)\n",
    "print('W_out:', W[1].shape)"
   ]
  },
  {
   "cell_type": "code",
   "execution_count": 17,
   "metadata": {
    "ExecuteTime": {
     "end_time": "2020-04-02T14:26:48.636732Z",
     "start_time": "2020-04-02T14:26:48.634122Z"
    }
   },
   "outputs": [],
   "source": [
    "W = network_weights(vocab_size=3,embedding_dim=4,hidden_dim=[2], num_classes=2)"
   ]
  },
  {
   "cell_type": "code",
   "execution_count": 18,
   "metadata": {
    "ExecuteTime": {
     "end_time": "2020-04-02T14:26:49.086112Z",
     "start_time": "2020-04-02T14:26:49.082225Z"
    }
   },
   "outputs": [
    {
     "name": "stdout",
     "output_type": "stream",
     "text": [
      "W_emb: (3, 4)\n",
      "W_h1: (4, 2)\n",
      "W_out: (2, 2)\n"
     ]
    }
   ],
   "source": [
    "print('W_emb:', W[0].shape)\n",
    "print('W_h1:', W[1].shape)\n",
    "print('W_out:', W[2].shape)"
   ]
  },
  {
   "cell_type": "code",
   "execution_count": 19,
   "metadata": {
    "ExecuteTime": {
     "end_time": "2020-04-02T14:26:49.535954Z",
     "start_time": "2020-04-02T14:26:49.532018Z"
    }
   },
   "outputs": [
    {
     "data": {
      "text/plain": [
       "array([[-0.08085749,  0.07706536,  0.02544979,  0.04468327],\n",
       "       [-0.09677416,  0.01888638,  0.01135704, -0.06820807],\n",
       "       [-0.06938589,  0.03910591, -0.03624671,  0.03839406]],\n",
       "      dtype=float32)"
      ]
     },
     "execution_count": 19,
     "metadata": {},
     "output_type": "execute_result"
    }
   ],
   "source": [
    "W[0]"
   ]
  },
  {
   "cell_type": "markdown",
   "metadata": {
    "ExecuteTime": {
     "end_time": "2020-04-01T10:31:57.970152Z",
     "start_time": "2020-04-01T10:31:57.966123Z"
    }
   },
   "source": [
    "Then you need to develop a `softmax` function (same as in Assignment 1) to be used in the output layer. It takes as input:\n",
    "\n",
    "- `z`: array of real numbers \n",
    "\n",
    "and returns:\n",
    "\n",
    "- `sig`: the softmax of `z`"
   ]
  },
  {
   "cell_type": "code",
   "execution_count": 20,
   "metadata": {
    "ExecuteTime": {
     "end_time": "2020-04-02T14:26:50.504086Z",
     "start_time": "2020-04-02T14:26:50.500686Z"
    }
   },
   "outputs": [],
   "source": [
    "def softmax(z):\n",
    "    sum_exp = np.sum(np.exp(z),axis = -1)\n",
    "    sig = np.exp(z) / np.expand_dims(sum_exp, -1)\n",
    "    return sig"
   ]
  },
  {
   "cell_type": "markdown",
   "metadata": {},
   "source": [
    "Now you need to implement the categorical cross entropy loss by slightly modifying the function from Assignment 1 to depend only on the true label `y` and the class probabilities vector `y_preds`:"
   ]
  },
  {
   "cell_type": "code",
   "execution_count": 21,
   "metadata": {
    "ExecuteTime": {
     "end_time": "2020-04-02T14:26:51.360838Z",
     "start_time": "2020-04-02T14:26:51.356935Z"
    }
   },
   "outputs": [],
   "source": [
    "def categorical_loss(y, y_preds):\n",
    "    l = -np.log(y_preds[y])\n",
    "    return l"
   ]
  },
  {
   "cell_type": "code",
   "execution_count": 22,
   "metadata": {
    "ExecuteTime": {
     "end_time": "2020-04-02T14:26:51.762676Z",
     "start_time": "2020-04-02T14:26:51.758210Z"
    }
   },
   "outputs": [
    {
     "name": "stdout",
     "output_type": "stream",
     "text": [
      "y_preds:  [0.01217919 0.27035308 0.24462558 0.02710529 0.44573687]\n",
      "loss: 1.40802648485675\n"
     ]
    }
   ],
   "source": [
    "# example for 5 classes\n",
    "\n",
    "y = 2 #true label\n",
    "y_preds = softmax(np.array([[-2.1,1.,0.9,-1.3,1.5]]))[0]\n",
    "\n",
    "print('y_preds: ',y_preds)\n",
    "print('loss:', categorical_loss(y, y_preds))"
   ]
  },
  {
   "cell_type": "markdown",
   "metadata": {
    "ExecuteTime": {
     "end_time": "2020-03-31T15:02:56.149535Z",
     "start_time": "2020-03-31T15:02:56.145738Z"
    }
   },
   "source": [
    "Then, implement the `relu` function to introduce non-linearity after each hidden layer of your network (during the forward pass): \n",
    "\n",
    "$$relu(z_i)= max(z_i,0)$$\n",
    "\n",
    "and the `relu_derivative` function to compute its derivative (used in the backward pass):\n",
    "\n",
    "\\begin{equation}\n",
    "  \\text{relu_derivative}(z_i)=\\begin{cases}\n",
    "    0, & \\text{if $z_i<=0$}.\\\\\n",
    "    1, & \\text{otherwise}.\n",
    "  \\end{cases}\n",
    "\\end{equation}\n",
    "\n",
    "Note that both functions take as input a vector $z$ \n",
    "\n",
    "Hint use .copy() to avoid in place changes in array z"
   ]
  },
  {
   "cell_type": "code",
   "execution_count": 55,
   "metadata": {
    "ExecuteTime": {
     "end_time": "2020-04-02T14:26:52.665236Z",
     "start_time": "2020-04-02T14:26:52.661519Z"
    }
   },
   "outputs": [],
   "source": [
    "def relu(z):\n",
    "    a = z.copy()\n",
    "    a[a<0] = 0\n",
    "    return a\n",
    "    \n",
    "def relu_derivative(z):\n",
    "    dz = z.copy()\n",
    "    dz[dz<=0] = 0\n",
    "    dz[dz>0] = 1\n",
    "    return dz"
   ]
  },
  {
   "cell_type": "markdown",
   "metadata": {},
   "source": [
    "During training you should also apply a dropout mask element-wise after the activation function (i.e. vector of ones with a random percentage set to zero). The `dropout_mask` function takes as input:\n",
    "\n",
    "- `size`: the size of the vector that we want to apply dropout\n",
    "- `dropout_rate`: the percentage of elements that will be randomly set to zeros\n",
    "\n",
    "and returns:\n",
    "\n",
    "- `dropout_vec`: a vector with binary values (0 or 1)"
   ]
  },
  {
   "cell_type": "code",
   "execution_count": 56,
   "metadata": {
    "ExecuteTime": {
     "end_time": "2020-04-02T14:26:53.429192Z",
     "start_time": "2020-04-02T14:26:53.425301Z"
    }
   },
   "outputs": [],
   "source": [
    "def dropout_mask(size, dropout_rate):\n",
    "    dropout_vec = np.random.binomial(1, 1-dropout_rate, size=size).astype(np.float32)\n",
    "    return dropout_vec"
   ]
  },
  {
   "cell_type": "code",
   "execution_count": 58,
   "metadata": {
    "ExecuteTime": {
     "end_time": "2020-04-02T14:26:53.853632Z",
     "start_time": "2020-04-02T14:26:53.849944Z"
    },
    "scrolled": true
   },
   "outputs": [
    {
     "name": "stdout",
     "output_type": "stream",
     "text": [
      "[1. 1. 1. 1. 1. 1. 1. 1. 1. 1.]\n",
      "[1. 1. 1. 0. 1. 1. 1. 1. 1. 1.]\n"
     ]
    }
   ],
   "source": [
    "print(dropout_mask(10, 0.2))\n",
    "print(dropout_mask(10, 0.2))"
   ]
  },
  {
   "cell_type": "markdown",
   "metadata": {},
   "source": [
    "Now you need to implement the `forward_pass` function that passes the input x through the network up to the output layer for computing the probability for each class using the weight matrices in `W`. The ReLU activation function should be applied on each hidden layer. \n",
    "\n",
    "- `x`: a list of vocabulary indices each corresponding to a word in the document (input)\n",
    "- `W`: a list of weight matrices connecting each part of the network, e.g. for a network with a hidden and an output layer: W[0] is the weight matrix that connects the input to the first hidden layer, W[1] is the weight matrix that connects the hidden layer to the output layer.\n",
    "- `dropout_rate`: the dropout rate that is used to generate a random dropout mask vector applied after each hidden layer for regularisation.\n",
    "\n",
    "and returns:\n",
    "\n",
    "- `out_vals`: a dictionary of output values from each layer: h (the vector before the activation function), a (the resulting vector after passing h from the activation function), its dropout mask vector; and the prediction vector (probability for each class) from the output layer."
   ]
  },
  {
   "cell_type": "code",
   "execution_count": 59,
   "metadata": {
    "ExecuteTime": {
     "end_time": "2020-04-02T14:26:54.761268Z",
     "start_time": "2020-04-02T14:26:54.753402Z"
    }
   },
   "outputs": [],
   "source": [
    "def forward_pass(x, W, dropout_rate=0.2):\n",
    "    \n",
    "    \n",
    "    out_vals = {}\n",
    "    \n",
    "    h_vecs = []\n",
    "    a_vecs = []\n",
    "    dropout_vecs = []\n",
    "\n",
    "    # Embedding layer\n",
    "    embedding_meanings = np.array([W[0][idx] for idx in x])\n",
    "    h1 = np.mean(embedding_meanings, axis=0)\n",
    "    h_vecs.append(h1)\n",
    "    out_vals[\"h\"] = np.array(h_vecs)\n",
    "\n",
    "    # ReLU\n",
    "    a1 = relu(h1)\n",
    "    a_vecs.append(a1)\n",
    "    out_vals[\"a\"] = np.array(a_vecs)\n",
    "\n",
    "    # Dropout Layer\n",
    "    mask_vector = dropout_mask(a1.shape[0], dropout_rate)\n",
    "    dropout_vecs.append(mask_vector)\n",
    "    out_vals[\"dropout_vec\"] = np.array(dropout_vecs)\n",
    "    a1_droped = mask_vector * a1\n",
    "\n",
    "    # Output Layer\n",
    "    y = softmax(np.dot(a1_droped,W[-1]))\n",
    "    out_vals[\"pred\"] = np.array(y)\n",
    "    \n",
    "    return out_vals "
   ]
  },
  {
   "cell_type": "code",
   "execution_count": 60,
   "metadata": {
    "ExecuteTime": {
     "end_time": "2020-04-02T14:26:55.162854Z",
     "start_time": "2020-04-02T14:26:55.156122Z"
    }
   },
   "outputs": [
    {
     "name": "stdout",
     "output_type": "stream",
     "text": [
      "Shape W0 (3, 4)\n",
      "Shape W1 (4, 2)\n",
      "\n",
      "{'h': array([[-0.04701475,  0.03149474,  0.01692255, -0.01912024]],\n",
      "      dtype=float32), 'a': array([[0.        , 0.03149474, 0.01692255, 0.        ]], dtype=float32), 'dropout_vec': array([[0., 1., 0., 1.]], dtype=float32), 'pred': array([0.5003739, 0.4996261], dtype=float32)}\n"
     ]
    }
   ],
   "source": [
    "W = network_weights(vocab_size=3,embedding_dim=4,hidden_dim=[], num_classes=2)\n",
    "\n",
    "for i in range(len(W)):\n",
    "    print('Shape W'+str(i), W[i].shape)\n",
    "\n",
    "print()\n",
    "print(forward_pass([2,1], W, dropout_rate=0.5))"
   ]
  },
  {
   "cell_type": "markdown",
   "metadata": {},
   "source": [
    "The `backward_pass` function computes the gradients and update the weights for each matrix in the network from the output to the input. It takes as input \n",
    "\n",
    "- `x`: a list of vocabulary indices each corresponding to a word in the document (input)\n",
    "- `y`: the true label\n",
    "- `W`: a list of weight matrices connecting each part of the network, e.g. for a network with a hidden and an output layer: W[0] is the weight matrix that connects the input to the first hidden layer, W[1] is the weight matrix that connects the hidden layer to the output layer.\n",
    "- `out_vals`: a dictionary of output values from a forward pass.\n",
    "- `learning_rate`: the learning rate for updating the weights.\n",
    "- `freeze_emb`: boolean value indicating whether the embedding weights will be updated.\n",
    "\n",
    "and returns:\n",
    "\n",
    "- `W`: the updated weights of the network.\n",
    "\n",
    "Hint: the gradients on the output layer are similar to the multiclass logistic regression."
   ]
  },
  {
   "cell_type": "code",
   "execution_count": 61,
   "metadata": {
    "ExecuteTime": {
     "end_time": "2020-04-02T14:26:56.225630Z",
     "start_time": "2020-04-02T14:26:56.216508Z"
    }
   },
   "outputs": [],
   "source": [
    "def backward_pass(x, y, W, out_vals, lr=0.001, freeze_emb=False):\n",
    "    \n",
    "    # Calculate weight update\n",
    "    out_vals['pred'][y] = out_vals['pred'][y] - 1\n",
    "    delta_W_output = np.dot(np.transpose(out_vals['a']*out_vals['dropout_vec'],(1,0)),[out_vals['pred']])\n",
    "    a = np.dot([out_vals['pred']],np.transpose(W[1],(1,0)))*out_vals['dropout_vec']*relu_derivative(out_vals['h'])\n",
    "    delta_W_hidden = np.dot(np.transpose([x],(1,0)),a)\n",
    "    delta_W_hidden_all = np.zeros_like(W[0])\n",
    "\n",
    "    for id,word_idx in enumerate(x):\n",
    "        delta_W_hidden_all[word_idx] = delta_W_hidden[id]\n",
    "\n",
    "    # Update weights\n",
    "    if not freeze_emb:\n",
    "        W[0] = W[0] - lr * delta_W_hidden_all\n",
    "        \n",
    "    W[1] = W[1] - lr * delta_W_output\n",
    "    \n",
    "    out_vals['pred'][y] = out_vals['pred'][y] + 1\n",
    "    \n",
    "    return W"
   ]
  },
  {
   "cell_type": "markdown",
   "metadata": {
    "ExecuteTime": {
     "end_time": "2020-02-15T14:08:59.937442Z",
     "start_time": "2020-02-15T14:08:59.932221Z"
    }
   },
   "source": [
    "Finally you need to modify SGD to support back-propagation by using the `forward_pass` and `backward_pass` functions.\n",
    "\n",
    "The `SGD` function takes as input:\n",
    "\n",
    "- `X_tr`: array of training data (vectors)\n",
    "- `Y_tr`: labels of `X_tr`\n",
    "- `W`: the weights of the network (dictionary)\n",
    "- `X_dev`: array of development (i.e. validation) data (vectors)\n",
    "- `Y_dev`: labels of `X_dev`\n",
    "- `lr`: learning rate\n",
    "- `dropout`: regularisation strength\n",
    "- `epochs`: number of full passes over the training data\n",
    "- `tolerance`: stop training if the difference between the current and previous validation loss is smaller than a threshold\n",
    "- `freeze_emb`: boolean value indicating whether the embedding weights will be updated (to be used by the backward pass function).\n",
    "- `print_progress`: flag for printing the training progress (train/validation loss)\n",
    "\n",
    "\n",
    "and returns:\n",
    "\n",
    "- `weights`: the weights learned\n",
    "- `training_loss_history`: an array with the average losses of the whole training set after each epoch\n",
    "- `validation_loss_history`: an array with the average losses of the whole development set after each epoch"
   ]
  },
  {
   "cell_type": "code",
   "execution_count": 62,
   "metadata": {
    "ExecuteTime": {
     "end_time": "2020-04-02T15:09:19.021428Z",
     "start_time": "2020-04-02T15:09:19.017835Z"
    }
   },
   "outputs": [],
   "source": [
    "def SGD(X_tr, Y_tr, W, X_dev=[], Y_dev=[], lr=0.001, \n",
    "        dropout=0.2, epochs=5, tolerance=0.001, freeze_emb=False, print_progress=True):\n",
    "    \n",
    "    training_loss_history=[]\n",
    "    validation_loss_history=[]\n",
    "    idx = np.arange(len(X_tr))\n",
    "    np.random.shuffle(idx) #shuffle data\n",
    "    stop_train = False\n",
    "    \n",
    "    for epoch in range(epochs):\n",
    "        if not stop_train:\n",
    "            if print_progress:\n",
    "                print(\"epoch:\", epoch)\n",
    "            for i in range(len(X_tr)):\n",
    "                #print(idx[i])\n",
    "                input_data = X_tr[idx[i]]\n",
    "                label = Y_tr[idx[i]]\n",
    "                output = forward_pass(input_data, W, dropout)\n",
    "                train_loss = categorical_loss(label, output['pred'])\n",
    "                training_loss_history.append(train_loss)\n",
    "                W = backward_pass(input_data, label, W, output, lr=lr,freeze_emb=freeze_emb)\n",
    "                if i%240==0 and i!=0 and print_progress:\n",
    "                    print(i,\" train_loss:\",train_loss)\n",
    "            for i in range(len(X_dev)):\n",
    "                input_data = X_dev[i]\n",
    "                label = Y_dev[i]\n",
    "                output = forward_pass(input_data, W, dropout)\n",
    "                validation_loss = categorical_loss(label, output['pred'])\n",
    "                validation_loss_history.append(validation_loss)\n",
    "                if i in (50, 100, 149) and print_progress:\n",
    "                    print(\"validation_loss:\", validation_loss)\n",
    "                if len(validation_loss_history) >= 2:\n",
    "                    if abs(validation_loss_history[-2] - validation_loss_history[-1]) < tolerance:\n",
    "                        stop_train = True\n",
    "                        break\n",
    "        else:\n",
    "            break\n",
    "            \n",
    "    return W, training_loss_history, validation_loss_history"
   ]
  },
  {
   "cell_type": "markdown",
   "metadata": {
    "ExecuteTime": {
     "end_time": "2020-02-15T14:10:15.772383Z",
     "start_time": "2020-02-15T14:10:15.767855Z"
    }
   },
   "source": [
    "Now you are ready to train and evaluate you neural net. First, you need to define your network using the `network_weights` function followed by SGD with backprop:"
   ]
  },
  {
   "cell_type": "code",
   "execution_count": 65,
   "metadata": {
    "ExecuteTime": {
     "end_time": "2020-04-02T15:09:33.643515Z",
     "start_time": "2020-04-02T15:09:33.640943Z"
    },
    "scrolled": true
   },
   "outputs": [
    {
     "name": "stdout",
     "output_type": "stream",
     "text": [
      "Shape W0 (8000, 300)\n",
      "Shape W1 (300, 3)\n",
      "epoch: 0\n",
      "240  train_loss: 0.96105033\n",
      "480  train_loss: 0.5946734\n",
      "720  train_loss: 4.1779222\n",
      "960  train_loss: 0.3214224\n",
      "1200  train_loss: 0.714913\n",
      "1440  train_loss: 0.028269969\n",
      "1680  train_loss: 0.22172895\n",
      "1920  train_loss: 0.030978303\n",
      "2160  train_loss: 0.09671496\n"
     ]
    }
   ],
   "source": [
    "W = network_weights(vocab_size=len(vocab),embedding_dim=300,hidden_dim=[], num_classes=3)\n",
    "\n",
    "for i in range(len(W)):\n",
    "    print('Shape W'+str(i), W[i].shape)\n",
    "\n",
    "W, loss_tr, dev_loss = SGD(X_tr, Y_tr,\n",
    "                            W,\n",
    "                            X_dev=X_dev, \n",
    "                            Y_dev=Y_dev,\n",
    "                            lr=0.005, \n",
    "                            dropout=0.2,\n",
    "                            freeze_emb=False,\n",
    "                            tolerance=0.01,\n",
    "                            epochs=100,\n",
    "                            print_progress=True)\n"
   ]
  },
  {
   "cell_type": "markdown",
   "metadata": {},
   "source": [
    "Plot the learning process:"
   ]
  },
  {
   "cell_type": "code",
   "execution_count": 66,
   "metadata": {
    "ExecuteTime": {
     "end_time": "2020-04-02T14:27:15.716497Z",
     "start_time": "2020-04-02T14:27:15.612736Z"
    }
   },
   "outputs": [
    {
     "data": {
      "image/png": "[encoded data removed]",
      "text/plain": [
       "<Figure size 432x288 with 1 Axes>"
      ]
     },
     "metadata": {
      "needs_background": "light"
     },
     "output_type": "display_data"
    },
    {
     "data": {
      "image/png": "[encoded data removed]",
      "text/plain": [
       "<Figure size 432x288 with 1 Axes>"
      ]
     },
     "metadata": {
      "needs_background": "light"
     },
     "output_type": "display_data"
    }
   ],
   "source": [
    "plt.plot(range(len(loss_tr)),loss_tr)\n",
    "plt.show()\n",
    "plt.plot(range(len(dev_loss)),dev_loss)\n",
    "plt.show()"
   ]
  },
  {
   "cell_type": "markdown",
   "metadata": {},
   "source": [
    "Compute accuracy, precision, recall and F1-Score:"
   ]
  },
  {
   "cell_type": "code",
   "execution_count": 67,
   "metadata": {
    "ExecuteTime": {
     "end_time": "2020-04-02T15:10:11.037495Z",
     "start_time": "2020-04-02T15:10:11.034999Z"
    }
   },
   "outputs": [
    {
     "name": "stdout",
     "output_type": "stream",
     "text": [
      "Accuracy: 0.82\n",
      "Precision: 0.8287168574529629\n",
      "Recall: 0.82\n",
      "F1-Score: 0.8201862848775726\n"
     ]
    }
   ],
   "source": [
    "preds_te = [np.argmax(forward_pass(x, W, dropout_rate=0.0)['pred']) for x,y in zip(X_test,Y_te)]\n",
    "print('Accuracy:', accuracy_score(Y_te,preds_te))\n",
    "print('Precision:', precision_score(Y_te,preds_te,average='macro'))\n",
    "print('Recall:', recall_score(Y_te,preds_te,average='macro'))\n",
    "print('F1-Score:', f1_score(Y_te,preds_te,average='macro'))"
   ]
  },
  {
   "cell_type": "markdown",
   "metadata": {},
   "source": [
    "### Discuss how did you choose model hyperparameters ? "
   ]
  },
  {
   "cell_type": "code",
   "execution_count": 70,
   "metadata": {},
   "outputs": [
    {
     "name": "stdout",
     "output_type": "stream",
     "text": [
      "lr =  0.001\n",
      "lr =  0.005\n",
      "lr =  0.01\n",
      "lr tuning finish\n"
     ]
    }
   ],
   "source": [
    "output = []\n",
    "learning_rates = [0.001,0.005,0.01]\n",
    "for i,lr in enumerate(learning_rates):\n",
    "    \n",
    "    W = network_weights(vocab_size=len(vocab),embedding_dim=300,hidden_dim=[], num_classes=3)\n",
    "\n",
    "    print(\"lr = \",lr)\n",
    "    output.append(SGD(X_tr, train_label,\n",
    "                                W,\n",
    "                                X_dev=X_dev,\n",
    "                                Y_dev=dev_label,\n",
    "                                lr=lr,\n",
    "                                dropout=0.2,\n",
    "                                freeze_emb=False,\n",
    "                                tolerance=0.001,\n",
    "                                epochs=100,\n",
    "                                print_progress=False))\n",
    "print(\"lr tuning finish\")"
   ]
  },
  {
   "cell_type": "code",
   "execution_count": 71,
   "metadata": {},
   "outputs": [
    {
     "data": {
      "image/png": "[encoded data removed]",
      "text/plain": [
       "<Figure size 432x288 with 2 Axes>"
      ]
     },
     "metadata": {
      "needs_background": "light"
     },
     "output_type": "display_data"
    }
   ],
   "source": [
    "plt.subplot(211)\n",
    "plt.plot(range(len(output[0][1])),output[0][1],label=\"lr=0.001\")\n",
    "plt.plot(range(len(output[1][1])),output[1][1],label=\"lr=0.005\")\n",
    "plt.plot(range(len(output[2][1])),output[2][1],label=\"lr=0.01\")\n",
    "plt.ylabel(\"train_loss\")\n",
    "plt.legend()\n",
    "plt.subplot(212)\n",
    "plt.plot(range(len(output[0][2])),output[0][2],label=\"lr=0.001\")\n",
    "plt.plot(range(len(output[1][2])),output[1][2],label=\"lr=0.005\")\n",
    "plt.plot(range(len(output[2][2])),output[2][2],label=\"lr=0.01\")\n",
    "plt.xlabel('iterations')\n",
    "plt.ylabel(\"validation_loss\")\n",
    "plt.legend()\n",
    "plt.show()"
   ]
  },
  {
   "cell_type": "code",
   "execution_count": 72,
   "metadata": {},
   "outputs": [],
   "source": [
    "#choose 0.005"
   ]
  },
  {
   "cell_type": "code",
   "execution_count": 73,
   "metadata": {},
   "outputs": [
    {
     "name": "stdout",
     "output_type": "stream",
     "text": [
      "embedding size =  50\n",
      "embedding size =  300\n",
      "embedding size =  500\n",
      "embedding size tuning finish\n"
     ]
    }
   ],
   "source": [
    "output = []\n",
    "embedding_sizes = [50,300,500]\n",
    "for i,embed in enumerate(embedding_sizes):\n",
    "    \n",
    "    W = network_weights(vocab_size=len(vocab),embedding_dim=embed,hidden_dim=[], num_classes=3)\n",
    "\n",
    "    print(\"embedding size = \",embed)\n",
    "    output.append(SGD(X_tr, train_label,\n",
    "                                W,\n",
    "                                X_dev=X_dev,\n",
    "                                Y_dev=dev_label,\n",
    "                                lr=0.005,\n",
    "                                dropout=0.2,\n",
    "                                freeze_emb=False,\n",
    "                                tolerance=0.001,\n",
    "                                epochs=100,\n",
    "                                print_progress=False)) \n",
    "print(\"embedding size tuning finish\")"
   ]
  },
  {
   "cell_type": "code",
   "execution_count": 74,
   "metadata": {},
   "outputs": [
    {
     "data": {
      "image/png": "[encoded data removed]",
      "text/plain": [
       "<Figure size 432x288 with 2 Axes>"
      ]
     },
     "metadata": {
      "needs_background": "light"
     },
     "output_type": "display_data"
    }
   ],
   "source": [
    "plt.subplot(211)\n",
    "plt.plot(range(len(output[0][1])),output[0][1],label=\"embed=50\")\n",
    "plt.plot(range(len(output[1][1])),output[1][1],label=\"embed=300\")\n",
    "plt.plot(range(len(output[2][1])),output[2][1],label=\"embed=500\")\n",
    "plt.ylabel(\"train_loss\")\n",
    "plt.legend()\n",
    "plt.subplot(212)\n",
    "plt.plot(range(len(output[0][2])),output[0][2],label=\"embed=50\")\n",
    "plt.plot(range(len(output[1][2])),output[1][2],label=\"embed=300\")\n",
    "plt.plot(range(len(output[2][2])),output[2][2],label=\"embed=500\")\n",
    "plt.xlabel('iterations')\n",
    "plt.ylabel(\"validation_loss\")\n",
    "plt.legend()\n",
    "plt.show()"
   ]
  },
  {
   "cell_type": "code",
   "execution_count": 75,
   "metadata": {},
   "outputs": [],
   "source": [
    "#choose 300"
   ]
  },
  {
   "cell_type": "code",
   "execution_count": 76,
   "metadata": {},
   "outputs": [
    {
     "name": "stdout",
     "output_type": "stream",
     "text": [
      "dropout rate =  0.2\n",
      "dropout rate =  0.5\n",
      "dropout rate tuning finish\n"
     ]
    }
   ],
   "source": [
    "output = []\n",
    "dropout_rates = [0.2,0.5]\n",
    "for i,dropout in enumerate(dropout_rates):\n",
    "    \n",
    "    W = network_weights(vocab_size=len(vocab),embedding_dim=300,hidden_dim=[], num_classes=3)\n",
    "\n",
    "    print(\"dropout rate = \",dropout)\n",
    "    output.append(SGD(X_tr, train_label,\n",
    "                                W,\n",
    "                                X_dev=X_dev,\n",
    "                                Y_dev=dev_label,\n",
    "                                lr=0.005,\n",
    "                                dropout=dropout,\n",
    "                                freeze_emb=False,\n",
    "                                tolerance=0.001,\n",
    "                                epochs=100,\n",
    "                                print_progress=False)) \n",
    "print(\"dropout rate tuning finish\")"
   ]
  },
  {
   "cell_type": "code",
   "execution_count": 77,
   "metadata": {},
   "outputs": [
    {
     "data": {
      "image/png": "[encoded data removed]",
      "text/plain": [
       "<Figure size 432x288 with 2 Axes>"
      ]
     },
     "metadata": {
      "needs_background": "light"
     },
     "output_type": "display_data"
    }
   ],
   "source": [
    "plt.subplot(211)\n",
    "plt.plot(range(len(output[0][1])),output[0][1],label=\"drop_rate=0.2\")\n",
    "plt.plot(range(len(output[1][1])),output[1][1],label=\"drop_rate=0.5\")\n",
    "plt.ylabel(\"train_loss\")\n",
    "plt.legend()\n",
    "plt.subplot(212)\n",
    "plt.plot(range(len(output[0][2])),output[0][2],label=\"drop_rate=0.2\")\n",
    "plt.plot(range(len(output[1][2])),output[1][2],label=\"drop_rate=0.5\")\n",
    "plt.xlabel('iterations')\n",
    "plt.ylabel(\"validation_loss\")\n",
    "plt.legend()\n",
    "plt.show()"
   ]
  },
  {
   "cell_type": "code",
   "execution_count": 78,
   "metadata": {},
   "outputs": [],
   "source": [
    "#choose 0.2"
   ]
  },
  {
   "cell_type": "markdown",
   "metadata": {},
   "source": [
    "# Use Pre-trained Embeddings\n",
    "\n",
    "Now re-train the network using GloVe pre-trained embeddings. You need to modify the `backward_pass` function above to stop computing gradients and updating weights of the embedding matrix.\n",
    "\n",
    "Use the function below to obtain the embedding martix for your vocabulary."
   ]
  },
  {
   "cell_type": "code",
   "execution_count": 79,
   "metadata": {
    "ExecuteTime": {
     "end_time": "2020-04-02T14:27:32.020697Z",
     "start_time": "2020-04-02T14:27:32.015733Z"
    }
   },
   "outputs": [],
   "source": [
    "def get_glove_embeddings(f_zip, f_txt, word2id, emb_size=300):\n",
    "    \n",
    "    w_emb = np.zeros((len(word2id), emb_size))\n",
    "    \n",
    "    with zipfile.ZipFile(f_zip) as z:\n",
    "        with z.open(f_txt) as f:\n",
    "            for line in f:\n",
    "                line = line.decode('utf-8')\n",
    "                word = line.split()[0]\n",
    "                     \n",
    "                if word in vocab:\n",
    "                    emb = np.array(line.strip('\\n').split()[1:]).astype(np.float32)\n",
    "                    w_emb[word2id[word]] +=emb\n",
    "    return w_emb"
   ]
  },
  {
   "cell_type": "code",
   "execution_count": 80,
   "metadata": {
    "ExecuteTime": {
     "end_time": "2020-04-02T14:28:54.548613Z",
     "start_time": "2020-04-02T14:27:32.780248Z"
    },
    "scrolled": true
   },
   "outputs": [],
   "source": [
    "w_glove = get_glove_embeddings(\"glove.840B.300d.zip\",\"glove.840B.300d.txt\",word2id)"
   ]
  },
  {
   "cell_type": "markdown",
   "metadata": {},
   "source": [
    "First, initialise the weights of your network using the `network_weights` function. Second, replace the weigths of the embedding matrix with `w_glove`. Finally, train the network by freezing the embedding weights: "
   ]
  },
  {
   "cell_type": "code",
   "execution_count": 90,
   "metadata": {
    "ExecuteTime": {
     "end_time": "2020-04-02T14:30:11.121198Z",
     "start_time": "2020-04-02T14:29:24.946124Z"
    }
   },
   "outputs": [
    {
     "name": "stdout",
     "output_type": "stream",
     "text": [
      "Shape W0 (8000, 300)\n",
      "Shape W1 (300, 3)\n",
      "epoch: 0\n",
      "240  train_loss: 0.893014939575583\n",
      "480  train_loss: 0.783650176911739\n",
      "720  train_loss: 1.0527895810670933\n",
      "960  train_loss: 0.9094549439467067\n",
      "1200  train_loss: 0.8900067650788132\n",
      "1440  train_loss: 0.6141358014506831\n",
      "1680  train_loss: 1.1679103805749875\n",
      "1920  train_loss: 0.4834561886814853\n",
      "2160  train_loss: 0.6235698032494781\n"
     ]
    }
   ],
   "source": [
    "W = network_weights(vocab_size=len(vocab),embedding_dim=300,hidden_dim=[], num_classes=3)\n",
    "W[0] = w_glove    #replace\n",
    "for i in range(len(W)):\n",
    "    print('Shape W'+str(i), W[i].shape)\n",
    "W, loss_tr, dev_loss = SGD(X_tr, train_label,\n",
    "                            W,\n",
    "                            X_dev=X_dev,\n",
    "                            Y_dev=dev_label,\n",
    "                            lr=0.005,\n",
    "                            dropout=0.2,\n",
    "                            freeze_emb=True,\n",
    "                            tolerance=0.01,\n",
    "                            epochs=100,\n",
    "                            print_progress=True)"
   ]
  },
  {
   "cell_type": "code",
   "execution_count": 91,
   "metadata": {
    "ExecuteTime": {
     "end_time": "2020-04-02T15:12:00.815184Z",
     "start_time": "2020-04-02T15:12:00.812563Z"
    }
   },
   "outputs": [
    {
     "name": "stdout",
     "output_type": "stream",
     "text": [
      "Accuracy: 0.8544444444444445\n",
      "Precision: 0.863667741887609\n",
      "Recall: 0.8544444444444445\n",
      "F1-Score: 0.8540755225132065\n"
     ]
    }
   ],
   "source": [
    "preds_te = [np.argmax(forward_pass(x, W, dropout_rate=0.0)['pred']) for x,y in zip(X_test,Y_te)]\n",
    "print('Accuracy:', accuracy_score(Y_te,preds_te))\n",
    "print('Precision:', precision_score(Y_te,preds_te,average='macro'))\n",
    "print('Recall:', recall_score(Y_te,preds_te,average='macro'))\n",
    "print('F1-Score:', f1_score(Y_te,preds_te,average='macro'))"
   ]
  },
  {
   "cell_type": "code",
   "execution_count": 92,
   "metadata": {
    "scrolled": false
   },
   "outputs": [
    {
     "data": {
      "image/png": "[encoded data removed]",
      "text/plain": [
       "<Figure size 432x288 with 1 Axes>"
      ]
     },
     "metadata": {
      "needs_background": "light"
     },
     "output_type": "display_data"
    },
    {
     "data": {
      "image/png": "[encoded data removed]",
      "text/plain": [
       "<Figure size 432x288 with 1 Axes>"
      ]
     },
     "metadata": {
      "needs_background": "light"
     },
     "output_type": "display_data"
    }
   ],
   "source": [
    "plt.plot(range(len(loss_tr)),loss_tr)\n",
    "plt.show()\n",
    "plt.plot(range(len(dev_loss)),dev_loss)\n",
    "plt.show()"
   ]
  },
  {
   "cell_type": "markdown",
   "metadata": {},
   "source": [
    "### Discuss how did you choose model hyperparameters ? "
   ]
  },
  {
   "cell_type": "code",
   "execution_count": 107,
   "metadata": {},
   "outputs": [
    {
     "name": "stdout",
     "output_type": "stream",
     "text": [
      "lr =  0.001\n",
      "lr =  0.005\n",
      "lr =  0.01\n",
      "lr tuning finish\n"
     ]
    }
   ],
   "source": [
    "output = []\n",
    "learning_rates = [0.001,0.005,0.01]\n",
    "for i,lr in enumerate(learning_rates):\n",
    "    \n",
    "    W = network_weights(vocab_size=len(vocab),embedding_dim=300,hidden_dim=[], num_classes=3)\n",
    "    W[0] = w_glove\n",
    "    print(\"lr = \",lr)\n",
    "    output.append(SGD(X_tr, train_label,\n",
    "                                W,\n",
    "                                X_dev=X_dev,\n",
    "                                Y_dev=dev_label,\n",
    "                                lr=lr,\n",
    "                                dropout=0.2,\n",
    "                                freeze_emb=True,\n",
    "                                tolerance=0.001,\n",
    "                                epochs=100,\n",
    "                                print_progress=False)) \n",
    "print(\"lr tuning finish\")"
   ]
  },
  {
   "cell_type": "code",
   "execution_count": 108,
   "metadata": {},
   "outputs": [
    {
     "data": {
      "image/png": "[encoded data removed]",
      "text/plain": [
       "<Figure size 432x288 with 2 Axes>"
      ]
     },
     "metadata": {
      "needs_background": "light"
     },
     "output_type": "display_data"
    }
   ],
   "source": [
    "plt.subplot(211)\n",
    "plt.plot(range(len(output[0][1])),output[0][1],label=\"lr=0.001\")\n",
    "plt.plot(range(len(output[1][1])),output[1][1],label=\"lr=0.005\")\n",
    "plt.plot(range(len(output[2][1])),output[2][1],label=\"lr=0.01\")\n",
    "plt.ylabel(\"train_loss\")\n",
    "plt.legend()\n",
    "plt.subplot(212)\n",
    "plt.plot(range(len(output[0][2])),output[0][2],label=\"lr=0.001\")\n",
    "plt.plot(range(len(output[1][2])),output[1][2],label=\"lr=0.005\")\n",
    "plt.plot(range(len(output[2][2])),output[2][2],label=\"lr=0.01\")\n",
    "plt.xlabel('iterations')\n",
    "plt.ylabel(\"validation_loss\")\n",
    "plt.legend()\n",
    "plt.show()"
   ]
  },
  {
   "cell_type": "code",
   "execution_count": 109,
   "metadata": {},
   "outputs": [],
   "source": [
    "#choose 0.005"
   ]
  },
  {
   "cell_type": "code",
   "execution_count": 110,
   "metadata": {},
   "outputs": [
    {
     "name": "stdout",
     "output_type": "stream",
     "text": [
      "dropout rate =  0.2\n",
      "dropout rate =  0.5\n",
      "dropout rate tuning finish\n"
     ]
    }
   ],
   "source": [
    "output = []\n",
    "dropout_rates = [0.2,0.5]\n",
    "for i,dropout in enumerate(dropout_rates):\n",
    "    \n",
    "    W = network_weights(vocab_size=len(vocab),embedding_dim=300,hidden_dim=[], num_classes=3)\n",
    "    W[0] = w_glove\n",
    "    print(\"dropout rate = \",dropout)\n",
    "    output.append(SGD(X_tr, train_label,\n",
    "                                W,\n",
    "                                X_dev=X_dev,\n",
    "                                Y_dev=dev_label,\n",
    "                                lr=0.005,\n",
    "                                dropout=dropout,\n",
    "                                freeze_emb=True,\n",
    "                                tolerance=0.001,\n",
    "                                epochs=100,\n",
    "                                print_progress=False)) \n",
    "print(\"dropout rate tuning finish\")"
   ]
  },
  {
   "cell_type": "code",
   "execution_count": 111,
   "metadata": {},
   "outputs": [
    {
     "data": {
      "image/png": "[encoded data removed]",
      "text/plain": [
       "<Figure size 432x288 with 2 Axes>"
      ]
     },
     "metadata": {
      "needs_background": "light"
     },
     "output_type": "display_data"
    }
   ],
   "source": [
    "plt.subplot(211)\n",
    "plt.plot(range(len(output[0][1])),output[0][1],label=\"drop_rate=0.2\")\n",
    "plt.plot(range(len(output[1][1])),output[1][1],label=\"drop_rate=0.5\")\n",
    "plt.ylabel(\"train_loss\")\n",
    "plt.legend()\n",
    "plt.subplot(212)\n",
    "plt.plot(range(len(output[0][2])),output[0][2],label=\"drop_rate=0.2\")\n",
    "plt.plot(range(len(output[1][2])),output[1][2],label=\"drop_rate=0.5\")\n",
    "plt.xlabel('iterations')\n",
    "plt.ylabel(\"validation_loss\")\n",
    "plt.legend()\n",
    "plt.show()"
   ]
  },
  {
   "cell_type": "markdown",
   "metadata": {},
   "source": [
    "## Full Results\n",
    "\n",
    "Add your final results here:\n",
    "\n",
    "| Model | Precision  | Recall  | F1-Score  | Accuracy\n",
    "|:-:|:-:|:-:|:-:|:-:|\n",
    "| Average Embedding  |0.820|0.829|0.820|0.820|\n",
    "| Average Embedding (Pre-trained)  |0.854|0.864|0.854|0.854|\n",
    "\n"
   ]
  }
 ],
 "metadata": {
  "kernelspec": {
   "display_name": "Python 3",
   "language": "python",
   "name": "python3"
  },
  "language_info": {
   "codemirror_mode": {
    "name": "ipython",
    "version": 3
   },
   "file_extension": ".py",
   "mimetype": "text/x-python",
   "name": "python",
   "nbconvert_exporter": "python",
   "pygments_lexer": "ipython3",
   "version": "3.7.7"
  }
 },
 "nbformat": 4,
 "nbformat_minor": 2
}
