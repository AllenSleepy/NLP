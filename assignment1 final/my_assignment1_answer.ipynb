{
 "cells": [
  {
   "cell_type": "markdown",
   "metadata": {},
   "source": [
    "# [COM4513-6513] Assignment 1: Text Classification with Logistic Regression\n",
    "\n",
    "### Instructor: Nikos Aletras\n",
    "\n",
    "\n",
    "The goal of this assignment is to develop and test two text classification systems: \n",
    "\n",
    "- **Task 1:** sentiment analysis, in particular to predict the sentiment of movie review, i.e. positive or negative (binary classification).\n",
    "- **Task 2:** topic classification, to predict whether a news article is about International issues, Sports or Business (multiclass classification).\n",
    "\n",
    "\n",
    "For that purpose, you will implement:\n",
    "\n",
    "- Text processing methods for extracting Bag-Of-Word features, using (1) unigrams, bigrams and trigrams to obtain vector representations of documents. Two vector weighting schemes should be tested: (1) raw frequencies (**3 marks; 1 for each ngram type**); (2) tf.idf (**1 marks**). \n",
    "- Binary Logistic Regression classifiers that will be able to accurately classify movie reviews trained with (1) BOW-count (raw frequencies); and (2) BOW-tfidf (tf.idf weighted) for Task 1. \n",
    "- Multiclass Logistic Regression classifiers that will be able to accurately classify news articles trained with (1) BOW-count (raw frequencies); and (2) BOW-tfidf (tf.idf weighted) for Task 2. \n",
    "- The Stochastic Gradient Descent (SGD) algorithm to estimate the parameters of your Logistic Regression models. Your SGD algorithm should:\n",
    "    - Minimise the Binary Cross-entropy loss function for Task 1 (**3 marks**)\n",
    "    - Minimise the Categorical Cross-entropy loss function for Task 2 (**3 marks**)\n",
    "    - Use L2 regularisation (both tasks) (**1 mark**)\n",
    "    - Perform multiple passes (epochs) over the training data (**1 mark**)\n",
    "    - Randomise the order of training data after each pass (**1 mark**)\n",
    "    - Stop training if the difference between the current and previous validation loss is smaller than a threshold (**1 mark**)\n",
    "    - After each epoch print the training and development loss (**1 mark**)\n",
    "- Discuss how did you choose hyperparameters (e.g. learning rate and regularisation strength)?  (**2 marks; 0.5 for each model in each task**).\n",
    "- After training the LR models, plot the learning process (i.e. training and validation loss in each epoch) using a line plot (**1 mark; 0.5 for both BOW-count and BOW-tfidf LR models in each task**) and discuss if your model overfits/underfits/is about right.\n",
    "- Model interpretability by showing the most important features for each class (i.e. most positive/negative weights). Give the top 10 for each class and comment on whether they make sense (if they don't you might have a bug!).  If we were to apply the classifier we've learned into a different domain such laptop reviews or restaurant reviews, do you think these features would generalise well? Can you propose what features the classifier could pick up as important in the new domain? (**2 marks; 0.5 for BOW-count and BOW-tfidf LR models respectively in each task**)\n",
    "\n",
    "\n",
    "### Data - Task 1 \n",
    "\n",
    "The data you will use for Task 1 are taken from here: [http://www.cs.cornell.edu/people/pabo/movie-review-data/](http://www.cs.cornell.edu/people/pabo/movie-review-data/) and you can find it in the `./data_sentiment` folder in CSV format:\n",
    "\n",
    "- `data_sentiment/train.csv`: contains 1,400 reviews, 700 positive (label: 1) and 700 negative (label: 0) to be used for training.\n",
    "- `data_sentiment/dev.csv`: contains 200 reviews, 100 positive and 100 negative to be used for hyperparameter selection and monitoring the training process.\n",
    "- `data_sentiment/test.csv`: contains 400 reviews, 200 positive and 200 negative to be used for testing.\n",
    "\n",
    "### Data - Task 2\n",
    "\n",
    "The data you will use for Task 2 is a subset of the [AG News Corpus](http://groups.di.unipi.it/~gulli/AG_corpus_of_news_articles.html) and you can find it in the `./data_topic` folder in CSV format:\n",
    "\n",
    "- `data_topic/train.csv`: contains 2,400 news articles, 800 for each class to be used for training.\n",
    "- `data_topic/dev.csv`: contains 150 news articles, 50 for each class to be used for hyperparameter selection and monitoring the training process.\n",
    "- `data_topic/test.csv`: contains 900 news articles, 300 for each class to be used for testing.\n",
    "\n",
    "\n",
    "### Submission Instructions\n",
    "\n",
    "You should submit a Jupyter Notebook file (assignment1.ipynb) and an exported PDF version (you can do it from Jupyter: `File->Download as->PDF via Latex`).\n",
    "\n",
    "You are advised to follow the code structure given in this notebook by completing all given funtions. You can also write any auxilliary/helper functions (and arguments for the functions) that you might need but note that you can provide a full solution without any such functions. Similarly, you can just use only the packages imported below but you are free to use any functionality from the [Python Standard Library](https://docs.python.org/2/library/index.html), NumPy, SciPy and Pandas. You are not allowed to use any third-party library such as Scikit-learn (apart from metric functions already provided), NLTK, Spacy, Keras etc..\n",
    "\n",
    "Please make sure to comment your code. You should also mention if you've used Windows (not recommended) to write and test your code. There is no single correct answer on what your accuracy should be, but correct implementations usually achieve F1-scores around 80\\% or higher. The quality of the analysis of the results is as important as the accuracy itself. \n",
    "\n",
    "This assignment will be marked out of 20. It is worth 20\\% of your final grade in the module.\n",
    "\n",
    "The deadline for this assignment is **23:59 on Fri, 20 Mar 2020** and it needs to be submitted via MOLE. Standard departmental penalties for lateness will be applied. We use a range of strategies to detect [unfair means](https://www.sheffield.ac.uk/ssid/unfair-means/index), including Turnitin which helps detect plagiarism, so make sure you do not plagiarise.\n",
    "\n"
   ]
  },
  {
   "cell_type": "code",
   "execution_count": 371,
   "metadata": {
    "ExecuteTime": {
     "end_time": "2020-02-15T14:31:36.292691Z",
     "start_time": "2020-02-15T14:31:35.549108Z"
    }
   },
   "outputs": [],
   "source": [
    "import pandas as pd\n",
    "import numpy as np\n",
    "from collections import Counter\n",
    "import re\n",
    "import matplotlib.pyplot as plt\n",
    "from sklearn.metrics import accuracy_score, precision_score, recall_score, f1_score\n",
    "import random\n",
    "\n",
    "# fixing random seed for reproducibility\n",
    "random.seed(123)\n",
    "np.random.seed(123)\n"
   ]
  },
  {
   "cell_type": "markdown",
   "metadata": {},
   "source": [
    "## Load Raw texts and labels into arrays\n",
    "\n",
    "First, you need to load the training, development and test sets from their corresponding CSV files (tip: you can use Pandas dataframes)."
   ]
  },
  {
   "cell_type": "code",
   "execution_count": 372,
   "metadata": {
    "ExecuteTime": {
     "end_time": "2020-02-15T14:17:28.145788Z",
     "start_time": "2020-02-15T14:17:28.066100Z"
    }
   },
   "outputs": [],
   "source": [
    "# on MacOS\n",
    "# Load CSV using Pandas\n",
    "data_tr = pd.read_csv('./data_sentiment/train.csv', names=['text','label'])\n",
    "data_dev = pd.read_csv('./data_sentiment/dev.csv', names=['text','label'])\n",
    "data_test = pd.read_csv('./data_sentiment/test.csv', names=['text','label'])"
   ]
  },
  {
   "cell_type": "markdown",
   "metadata": {},
   "source": [
    "If you use Pandas you can see a sample of the data."
   ]
  },
  {
   "cell_type": "code",
   "execution_count": 373,
   "metadata": {
    "ExecuteTime": {
     "end_time": "2020-02-15T14:17:28.900892Z",
     "start_time": "2020-02-15T14:17:28.891221Z"
    },
    "scrolled": true
   },
   "outputs": [
    {
     "data": {
      "text/html": [
       "<div>\n",
       "<style scoped>\n",
       "    .dataframe tbody tr th:only-of-type {\n",
       "        vertical-align: middle;\n",
       "    }\n",
       "\n",
       "    .dataframe tbody tr th {\n",
       "        vertical-align: top;\n",
       "    }\n",
       "\n",
       "    .dataframe thead th {\n",
       "        text-align: right;\n",
       "    }\n",
       "</style>\n",
       "<table border=\"1\" class=\"dataframe\">\n",
       "  <thead>\n",
       "    <tr style=\"text-align: right;\">\n",
       "      <th></th>\n",
       "      <th>text</th>\n",
       "      <th>label</th>\n",
       "    </tr>\n",
       "  </thead>\n",
       "  <tbody>\n",
       "    <tr>\n",
       "      <td>0</td>\n",
       "      <td>note : some may consider portions of the follo...</td>\n",
       "      <td>1</td>\n",
       "    </tr>\n",
       "    <tr>\n",
       "      <td>1</td>\n",
       "      <td>note : some may consider portions of the follo...</td>\n",
       "      <td>1</td>\n",
       "    </tr>\n",
       "    <tr>\n",
       "      <td>2</td>\n",
       "      <td>every once in a while you see a film that is s...</td>\n",
       "      <td>1</td>\n",
       "    </tr>\n",
       "    <tr>\n",
       "      <td>3</td>\n",
       "      <td>when i was growing up in 1970s , boys in my sc...</td>\n",
       "      <td>1</td>\n",
       "    </tr>\n",
       "    <tr>\n",
       "      <td>4</td>\n",
       "      <td>the muppet movie is the first , and the best m...</td>\n",
       "      <td>1</td>\n",
       "    </tr>\n",
       "  </tbody>\n",
       "</table>\n",
       "</div>"
      ],
      "text/plain": [
       "                                                text  label\n",
       "0  note : some may consider portions of the follo...      1\n",
       "1  note : some may consider portions of the follo...      1\n",
       "2  every once in a while you see a film that is s...      1\n",
       "3  when i was growing up in 1970s , boys in my sc...      1\n",
       "4  the muppet movie is the first , and the best m...      1"
      ]
     },
     "execution_count": 373,
     "metadata": {},
     "output_type": "execute_result"
    }
   ],
   "source": [
    "data_tr.head()"
   ]
  },
  {
   "cell_type": "markdown",
   "metadata": {},
   "source": [
    "The next step is to put the raw texts into Python lists and their corresponding labels into NumPy arrays:\n"
   ]
  },
  {
   "cell_type": "code",
   "execution_count": 374,
   "metadata": {
    "ExecuteTime": {
     "end_time": "2020-02-15T14:17:31.115577Z",
     "start_time": "2020-02-15T14:17:31.108038Z"
    },
    "scrolled": true
   },
   "outputs": [],
   "source": [
    "train_label = Y_tr = data_tr['label'].values\n",
    "train_text = X_tr_raw = list(data_tr['text'])\n",
    "dev_label = Y_dev = data_dev['label'].values\n",
    "dev_text = X_dev_raw = list(data_dev['text'])\n",
    "test_label = Y_te = data_test['label'].values\n",
    "test_text = X_te_raw = list(data_test['text'])"
   ]
  },
  {
   "cell_type": "markdown",
   "metadata": {},
   "source": [
    "# Bag-of-Words Representation \n",
    "\n",
    "\n",
    "To train and test Logisitc Regression models, you first need to obtain vector representations for all documents given a vocabulary of features (unigrams, bigrams, trigrams).\n",
    "\n",
    "\n",
    "## Text Pre-Processing Pipeline\n",
    "\n",
    "To obtain a vocabulary of features, you should: \n",
    "- tokenise all texts into a list of unigrams (tip: using a regular expression) \n",
    "- remove stop words (using the one provided or one of your preference) \n",
    "- compute bigrams, trigrams given the remaining unigrams\n",
    "- remove ngrams appearing in less than K documents\n",
    "- use the remaining to create a vocabulary of unigrams, bigrams and trigrams (you can keep top N if you encounter memory issues).\n"
   ]
  },
  {
   "cell_type": "code",
   "execution_count": 375,
   "metadata": {
    "ExecuteTime": {
     "end_time": "2020-02-15T14:17:31.860420Z",
     "start_time": "2020-02-15T14:17:31.855439Z"
    }
   },
   "outputs": [],
   "source": [
    "stop_words = ['a','in','on','at','and','or', \n",
    "              'to', 'the', 'of', 'an', 'by', \n",
    "              'as', 'is', 'was', 'were', 'been', 'be', \n",
    "              'are','for', 'this', 'that', 'these', 'those', 'you', 'i',\n",
    "             'it', 'he', 'she', 'we', 'they' 'will', 'have', 'has',\n",
    "              'do', 'did', 'can', 'could', 'who', 'which', 'what', \n",
    "             'his', 'her', 'they', 'them', 'from', 'with', 'its']"
   ]
  },
  {
   "cell_type": "markdown",
   "metadata": {},
   "source": [
    "### N-gram extraction from a document\n",
    "\n",
    "You first need to implement the `extract_ngrams` function. It takes as input:\n",
    "- `x_raw`: a string corresponding to the raw text of a document\n",
    "- `ngram_range`: a tuple of two integers denoting the type of ngrams you want to extract, e.g. (1,2) denotes extracting unigrams and bigrams.\n",
    "- `token_pattern`: a string to be used within a regular expression to extract all tokens. Note that data is already tokenised so you could opt for a simple white space tokenisation.\n",
    "- `stop_words`: a list of stop words\n",
    "- `vocab`: a given vocabulary. It should be used to extract specific features.\n",
    "\n",
    "and returns:\n",
    "\n",
    "- a list of all extracted features.\n",
    "\n",
    "See the examples below to see how this function should work."
   ]
  },
  {
   "cell_type": "code",
   "execution_count": 376,
   "metadata": {
    "ExecuteTime": {
     "end_time": "2020-02-15T14:17:33.169090Z",
     "start_time": "2020-02-15T14:17:33.161268Z"
    }
   },
   "outputs": [],
   "source": [
    "def extract_ngrams(x_raw, ngram_range=(1,3), token_pattern=r'\\b[A-Za-z][A-Za-z]+\\b', stop_words=[], vocab=set()):    \n",
    "    \n",
    "    tokenized_list = re.findall(token_pattern,x_raw)    \n",
    "    tokenized_list_without_sw = [word for word in tokenized_list if word not in stop_words] # remove stopword\n",
    "    \n",
    "    ngram_list = []\n",
    "    for gram_num in range(ngram_range[0],ngram_range[1] + 1):   #input is (1,3) we need 1 to 3\n",
    "        if gram_num == 1:                                       #unigram\n",
    "            ngram_list = tokenized_list_without_sw[:]           #slice\n",
    "            continue\n",
    "        else:\n",
    "            for i in range(len(tokenized_list_without_sw) - (gram_num - 1)):\n",
    "                ngram_list.append(tuple(tokenized_list_without_sw[i:i + gram_num]))\n",
    "    # set vocab\n",
    "    if vocab == set():\n",
    "        return ngram_list\n",
    "    else:\n",
    "        ngram_list = [word for word in ngram_list if word in vocab] # remove word not in vocab\n",
    "        return ngram_list"
   ]
  },
  {
   "cell_type": "code",
   "execution_count": 377,
   "metadata": {
    "ExecuteTime": {
     "end_time": "2020-02-15T14:17:33.680114Z",
     "start_time": "2020-02-15T14:17:33.675339Z"
    }
   },
   "outputs": [
    {
     "data": {
      "text/plain": [
       "['great',\n",
       " 'movie',\n",
       " 'watch',\n",
       " ('great', 'movie'),\n",
       " ('movie', 'watch'),\n",
       " ('great', 'movie', 'watch')]"
      ]
     },
     "execution_count": 377,
     "metadata": {},
     "output_type": "execute_result"
    }
   ],
   "source": [
    "extract_ngrams(\"this is a great movie to watch\", \n",
    "               ngram_range=(1,3), \n",
    "               stop_words=stop_words)"
   ]
  },
  {
   "cell_type": "code",
   "execution_count": 378,
   "metadata": {
    "ExecuteTime": {
     "end_time": "2020-02-15T14:17:34.278189Z",
     "start_time": "2020-02-15T14:17:34.273722Z"
    }
   },
   "outputs": [
    {
     "data": {
      "text/plain": [
       "['great', ('great', 'movie')]"
      ]
     },
     "execution_count": 378,
     "metadata": {},
     "output_type": "execute_result"
    }
   ],
   "source": [
    "extract_ngrams(\"this is a great movie to watch\", \n",
    "               ngram_range=(1,2), \n",
    "               stop_words=stop_words, \n",
    "               vocab=set(['great',  ('great','movie')]))"
   ]
  },
  {
   "cell_type": "markdown",
   "metadata": {},
   "source": [
    "Note that it is OK to represent n-grams using lists instead of tuples: e.g. `['great', ['great', 'movie']]`"
   ]
  },
  {
   "cell_type": "markdown",
   "metadata": {},
   "source": [
    "### Create a vocabulary of n-grams\n",
    "\n",
    "Then the `get_vocab` function will be used to (1) create a vocabulary of ngrams; (2) count the document frequencies of ngrams; (3) their raw frequency. It takes as input:\n",
    "- `X_raw`: a list of strings each corresponding to the raw text of a document\n",
    "- `ngram_range`: a tuple of two integers denoting the type of ngrams you want to extract, e.g. (1,2) denotes extracting unigrams and bigrams.\n",
    "- `token_pattern`: a string to be used within a regular expression to extract all tokens. Note that data is already tokenised so you could opt for a simple white space tokenisation.\n",
    "- `stop_words`: a list of stop words\n",
    "- `vocab`: a given vocabulary. It should be used to extract specific features.\n",
    "- `min_df`: keep ngrams with a minimum document frequency.\n",
    "- `keep_topN`: keep top-N more frequent ngrams.\n",
    "\n",
    "and returns:\n",
    "\n",
    "- `vocab`: a set of the n-grams that will be used as features.\n",
    "- `df`: a Counter (or dict) that contains ngrams as keys and their corresponding document frequency as values.\n",
    "- `ngram_counts`: counts of each ngram in vocab\n",
    "\n",
    "Hint: it should make use of the `extract_ngrams` function."
   ]
  },
  {
   "cell_type": "code",
   "execution_count": 379,
   "metadata": {
    "ExecuteTime": {
     "end_time": "2020-02-15T14:17:35.821240Z",
     "start_time": "2020-02-15T14:17:35.814722Z"
    }
   },
   "outputs": [],
   "source": [
    "def get_vocab(X_raw, ngram_range=(1,3), token_pattern=r'\\b[A-Za-z][A-Za-z]+\\b', min_df=0, keep_topN=0, stop_words=[]):\n",
    "\n",
    "    ngram_list = []\n",
    "    for i in range(len(X_raw)):\n",
    "        ngram_list.extend(list(set(extract_ngrams(X_raw[i], ngram_range=ngram_range, stop_words=stop_words))))\n",
    "        #use set to delete repeat word\n",
    "\n",
    "    df = Counter(ngram_list)\n",
    "    ngram_counts = df.most_common()[:keep_topN]\n",
    "    vocab = [ngram_counts[i][0] for i in range(len(ngram_counts))]\n",
    "    return vocab, df, ngram_counts  "
   ]
  },
  {
   "cell_type": "markdown",
   "metadata": {},
   "source": [
    "Now you should use `get_vocab` to create your vocabulary and get document and raw frequencies of n-grams:"
   ]
  },
  {
   "cell_type": "code",
   "execution_count": 380,
   "metadata": {
    "ExecuteTime": {
     "end_time": "2020-02-15T14:17:39.319793Z",
     "start_time": "2020-02-15T14:17:36.836545Z"
    }
   },
   "outputs": [
    {
     "name": "stdout",
     "output_type": "stream",
     "text": [
      "5000\n",
      "\n",
      "['but', 'one', 'film', 'not', 'all', 'movie', 'out', 'so', 'there', 'like', 'more', 'up', 'about', 'when', 'some', 'if', 'just', 'only', 'into', 'than', 'even', 'their', 'time', 'most', 'no', 'good', 'much', 'him', 'would', 'other', 'get', 'story', 'well', 'will', 'also', 'two', 'after', 'first', 'character', 'make', 'way', 'characters', 'off', 'see', 'very', 'while', 'does', 'any', 'where', 'too', 'little', 'plot', 'because', 'over', 'director', 'had', 'how', 'then', 'best', 'being', 'people', 'doesn', 'really', 'man', 'never', 'life', 'through', 'films', 'here', 'don', 'many', 'another', 'such', 'scene', 'me', 'bad', 'know', 'made', 'scenes', 'my', 'end', 'new', 'go', 'before', 'back', 'makes', 'something', 'great', 'work', 'movies', 'still', 'better', 'now', 'few', 'down', 'seems', 'around', 'every', 'enough', 're']\n",
      "\n",
      "[('but', 1334), ('one', 1247), ('film', 1231), ('not', 1170), ('all', 1117), ('movie', 1095), ('out', 1080), ('so', 1047), ('there', 1046), ('like', 1043)]\n"
     ]
    }
   ],
   "source": [
    "vocab, df, ngram_counts = get_vocab(X_tr_raw, ngram_range=(1,3), keep_topN=5000, stop_words=stop_words)\n",
    "print(len(vocab))\n",
    "print()\n",
    "print(list(vocab)[:100])\n",
    "print()\n",
    "print(df.most_common()[:10])"
   ]
  },
  {
   "cell_type": "markdown",
   "metadata": {},
   "source": [
    "Then, you need to create vocabulary id -> word and id -> word dictionaries for reference:"
   ]
  },
  {
   "cell_type": "code",
   "execution_count": 381,
   "metadata": {
    "ExecuteTime": {
     "end_time": "2020-02-15T14:17:39.326811Z",
     "start_time": "2020-02-15T14:17:39.322256Z"
    }
   },
   "outputs": [],
   "source": [
    "word2id = {}\n",
    "for i in range(len(vocab)):\n",
    "    word2id[vocab[i]] = i\n",
    "\n",
    "id2word = {}\n",
    "id2word = vocab[:]"
   ]
  },
  {
   "cell_type": "markdown",
   "metadata": {},
   "source": [
    "Now you should be able to extract n-grams for each text in the training, development and test sets:"
   ]
  },
  {
   "cell_type": "code",
   "execution_count": 382,
   "metadata": {
    "ExecuteTime": {
     "end_time": "2020-02-15T14:17:40.213253Z",
     "start_time": "2020-02-15T14:17:39.329147Z"
    }
   },
   "outputs": [],
   "source": [
    "# create a function\n",
    "def data_ngrams(text):\n",
    "    ngrams = []\n",
    "    for i in range(len(text)):\n",
    "        ngrams.append(extract_ngrams(text[i], stop_words=stop_words, vocab=vocab))\n",
    "    return ngrams\n",
    "# extract ngrams\n",
    "train_ngrams = data_ngrams(train_text) \n",
    "dev_ngrams = data_ngrams(dev_text)\n",
    "test_ngrams = data_ngrams(test_text)"
   ]
  },
  {
   "cell_type": "markdown",
   "metadata": {},
   "source": [
    "## Vectorise documents "
   ]
  },
  {
   "cell_type": "markdown",
   "metadata": {},
   "source": [
    "Next, write a function `vectoriser` to obtain Bag-of-ngram representations for a list of documents. The function should take as input:\n",
    "- `X_ngram`: a list of texts (documents), where each text is represented as list of n-grams in the `vocab`\n",
    "- `vocab`: a set of n-grams to be used for representing the documents\n",
    "\n",
    "and return:\n",
    "- `X_vec`: an array with dimensionality Nx|vocab| where N is the number of documents and |vocab| is the size of the vocabulary. Each element of the array should represent the frequency of a given n-gram in a document.\n"
   ]
  },
  {
   "cell_type": "code",
   "execution_count": 383,
   "metadata": {
    "ExecuteTime": {
     "end_time": "2020-02-15T14:17:40.219201Z",
     "start_time": "2020-02-15T14:17:40.215129Z"
    }
   },
   "outputs": [],
   "source": [
    "def vectorise(X_ngram, vocab):\n",
    "    X_vec = np.zeros((len(X_ngram),len(vocab))) # create a zreo matrix\n",
    "    for i in range(len(X_ngram)):               \n",
    "        for j in range(len(X_ngram[i])):      \n",
    "            idx = word2id[X_ngram[i][j]]        # find id\n",
    "            X_vec[i,idx] += 1                   # count\n",
    "    return X_vec"
   ]
  },
  {
   "cell_type": "markdown",
   "metadata": {},
   "source": [
    "Finally, use `vectorise` to obtain document vectors for each document in the train, development and test set. You should extract both count and tf.idf vectors respectively:"
   ]
  },
  {
   "cell_type": "markdown",
   "metadata": {},
   "source": [
    "#### Count vectors"
   ]
  },
  {
   "cell_type": "code",
   "execution_count": 384,
   "metadata": {
    "ExecuteTime": {
     "end_time": "2020-02-15T14:17:41.999574Z",
     "start_time": "2020-02-15T14:17:40.376534Z"
    }
   },
   "outputs": [],
   "source": [
    "X_tr_count = vectorise(train_ngrams,vocab)\n",
    "X_dev_count = vectorise(dev_ngrams,vocab)\n",
    "X_te_count = vectorise(test_ngrams,vocab)"
   ]
  },
  {
   "cell_type": "code",
   "execution_count": 385,
   "metadata": {
    "ExecuteTime": {
     "end_time": "2020-02-15T14:17:42.004808Z",
     "start_time": "2020-02-15T14:17:42.001555Z"
    }
   },
   "outputs": [
    {
     "data": {
      "text/plain": [
       "(1400, 5000)"
      ]
     },
     "execution_count": 385,
     "metadata": {},
     "output_type": "execute_result"
    }
   ],
   "source": [
    "X_tr_count.shape"
   ]
  },
  {
   "cell_type": "code",
   "execution_count": 386,
   "metadata": {
    "ExecuteTime": {
     "end_time": "2020-02-15T14:17:42.010525Z",
     "start_time": "2020-02-15T14:17:42.006309Z"
    }
   },
   "outputs": [
    {
     "data": {
      "text/plain": [
       "array([[ 6.,  8., 20.,  4.,  1.,  0.,  1.,  3.,  1.,  0.,  1.,  0.,  1.,\n",
       "         0.,  1.,  1.,  2.,  4.,  2.,  1.,  3.,  6.,  0.,  4.,  1.,  1.,\n",
       "         1.,  0.,  3.,  0.,  0.,  2.,  0.,  1.,  0.,  1.,  0.,  2.,  3.,\n",
       "         0.,  0.,  4.,  1.,  1.,  0.,  3.,  0.,  1.,  1.,  0.],\n",
       "       [ 2.,  5.,  6.,  2.,  4.,  0.,  2.,  3.,  2.,  3.,  3.,  4.,  2.,\n",
       "         0.,  2.,  2.,  0.,  0.,  2.,  3.,  0.,  0.,  2.,  2.,  1.,  1.,\n",
       "         1.,  5.,  1.,  1.,  1.,  2.,  0.,  4.,  1.,  1.,  0.,  0.,  5.,\n",
       "         1.,  2.,  0.,  0.,  1.,  0.,  3.,  1.,  1.,  2.,  0.]])"
      ]
     },
     "execution_count": 386,
     "metadata": {},
     "output_type": "execute_result"
    }
   ],
   "source": [
    "X_tr_count[:2,:50]"
   ]
  },
  {
   "cell_type": "markdown",
   "metadata": {},
   "source": [
    "#### TF.IDF vectors\n",
    "\n",
    "First compute `idfs` an array containing inverted document frequencies (Note: its elements should correspond to your `vocab`)"
   ]
  },
  {
   "cell_type": "code",
   "execution_count": 387,
   "metadata": {
    "ExecuteTime": {
     "end_time": "2020-02-15T14:17:42.022692Z",
     "start_time": "2020-02-15T14:17:42.012315Z"
    }
   },
   "outputs": [],
   "source": [
    "df_vocab = np.zeros((len(vocab),))\n",
    "for j in range(len(train_ngrams)):\n",
    "    for i in range(len(vocab)):\n",
    "        if vocab[i] in train_ngrams[j]:\n",
    "            df_vocab[i] += 1               #count\n",
    "#idfs\n",
    "idfs = np.log(len(train_ngrams)/(df_vocab + 1))"
   ]
  },
  {
   "cell_type": "markdown",
   "metadata": {},
   "source": [
    "Then transform your count vectors to tf.idf vectors:"
   ]
  },
  {
   "cell_type": "code",
   "execution_count": 388,
   "metadata": {
    "ExecuteTime": {
     "end_time": "2020-02-15T14:17:42.802265Z",
     "start_time": "2020-02-15T14:17:42.752448Z"
    }
   },
   "outputs": [],
   "source": [
    "X_tr_tfidf = X_tr_count * idfs   # mathematical formula\n",
    "X_dev_tfidf = X_dev_count * idfs\n",
    "X_te_tfidf = X_te_count * idfs"
   ]
  },
  {
   "cell_type": "code",
   "execution_count": 389,
   "metadata": {
    "ExecuteTime": {
     "end_time": "2020-02-15T14:17:43.211619Z",
     "start_time": "2020-02-15T14:17:43.207266Z"
    }
   },
   "outputs": [
    {
     "data": {
      "text/plain": [
       "array([0.09508189, 0.57464983, 0.76700023, 0.3572283 , 0.89972345,\n",
       "       0.        , 0.5171714 , 0.86876595, 0.58108661, 0.88023824,\n",
       "       0.88887134, 1.26275879, 0.65106459, 0.        , 0.74212736,\n",
       "       0.79669528, 0.        , 0.        , 0.83753496, 1.28247491,\n",
       "       0.        , 0.        , 0.94000726, 0.99328198, 0.50370816,\n",
       "       0.52763274, 0.5558728 , 2.86097285, 0.58878717, 0.59265564,\n",
       "       0.59913655, 1.20087556, 0.        , 2.44890295, 0.61618614,\n",
       "       0.62016229, 0.        , 0.        , 3.1609324 , 0.68037199,\n",
       "       1.36356684, 0.        , 0.        , 0.70464156, 0.        ,\n",
       "       2.17081916, 0.74293785, 0.74444047, 1.50700796, 0.        ])"
      ]
     },
     "execution_count": 389,
     "metadata": {},
     "output_type": "execute_result"
    }
   ],
   "source": [
    "X_tr_tfidf[1,:50]"
   ]
  },
  {
   "cell_type": "markdown",
   "metadata": {},
   "source": [
    "# Binary Logistic Regression\n",
    "\n",
    "After obtaining vector representations of the data, now you are ready to implement Binary Logistic Regression for classifying sentiment."
   ]
  },
  {
   "cell_type": "markdown",
   "metadata": {},
   "source": [
    "First, you need to implement the `sigmoid` function. It takes as input:\n",
    "\n",
    "- `z`: a real number or an array of real numbers \n",
    "\n",
    "and returns:\n",
    "\n",
    "- `sig`: the sigmoid of `z`"
   ]
  },
  {
   "cell_type": "code",
   "execution_count": 390,
   "metadata": {
    "ExecuteTime": {
     "end_time": "2020-02-15T14:17:44.160661Z",
     "start_time": "2020-02-15T14:17:44.157902Z"
    }
   },
   "outputs": [],
   "source": [
    "def sigmoid(z):\n",
    "    z = 1.0/(1 + np.exp(-z)) # mathematical formula\n",
    "    return z"
   ]
  },
  {
   "cell_type": "code",
   "execution_count": 391,
   "metadata": {
    "ExecuteTime": {
     "end_time": "2020-02-15T14:17:44.351292Z",
     "start_time": "2020-02-15T14:17:44.346822Z"
    }
   },
   "outputs": [
    {
     "name": "stdout",
     "output_type": "stream",
     "text": [
      "0.5\n",
      "[0.00669285 0.76852478]\n"
     ]
    }
   ],
   "source": [
    "print(sigmoid(0)) \n",
    "print(sigmoid(np.array([-5., 1.2])))"
   ]
  },
  {
   "cell_type": "markdown",
   "metadata": {},
   "source": [
    "Then, implement the `predict_proba` function to obtain prediction probabilities. It takes as input:\n",
    "\n",
    "- `X`: an array of inputs, i.e. documents represented by bag-of-ngram vectors ($N \\times |vocab|$)\n",
    "- `weights`: a 1-D array of the model's weights $(1, |vocab|)$\n",
    "\n",
    "and returns:\n",
    "\n",
    "- `preds_proba`: the prediction probabilities of X given the weights"
   ]
  },
  {
   "cell_type": "code",
   "execution_count": 392,
   "metadata": {
    "ExecuteTime": {
     "end_time": "2020-02-15T14:17:44.718566Z",
     "start_time": "2020-02-15T14:17:44.715017Z"
    }
   },
   "outputs": [],
   "source": [
    "def predict_proba(X, weights):\n",
    "    \n",
    "    preds_proba = sigmoid(np.dot(X, weights)) \n",
    "    \n",
    "    return preds_proba"
   ]
  },
  {
   "cell_type": "markdown",
   "metadata": {},
   "source": [
    "Then, implement the `predict_class` function to obtain the most probable class for each vector in an array of input vectors. It takes as input:\n",
    "\n",
    "- `X`: an array of documents represented by bag-of-ngram vectors ($N \\times |vocab|$)\n",
    "- `weights`: a 1-D array of the model's weights $(1, |vocab|)$\n",
    "\n",
    "and returns:\n",
    "\n",
    "- `preds_class`: the predicted class for each x in X given the weights"
   ]
  },
  {
   "cell_type": "code",
   "execution_count": 393,
   "metadata": {
    "ExecuteTime": {
     "end_time": "2020-02-15T14:17:45.002125Z",
     "start_time": "2020-02-15T14:17:44.998668Z"
    }
   },
   "outputs": [],
   "source": [
    "def predict_class(X, weights):\n",
    "    # create a matrix shape like predict_proba\n",
    "    preds_class = np.zeros_like(predict_proba(X, weights)) \n",
    "    \n",
    "    for i in range(len(predict_proba(X, weights))):\n",
    "        if predict_proba(X, weights)[i] >= 0.5:      #decision bound\n",
    "            preds_class[i] = 1\n",
    "        else:\n",
    "            preds_class[i] = 0\n",
    "    return preds_class"
   ]
  },
  {
   "cell_type": "markdown",
   "metadata": {},
   "source": [
    "To learn the weights from data, we need to minimise the binary cross-entropy loss. Implement `binary_loss` that takes as input:\n",
    "\n",
    "- `X`: input vectors\n",
    "- `Y`: labels\n",
    "- `weights`: model weights\n",
    "- `alpha`: regularisation strength\n",
    "\n",
    "and return:\n",
    "\n",
    "- `l`: the loss score"
   ]
  },
  {
   "cell_type": "code",
   "execution_count": 394,
   "metadata": {
    "ExecuteTime": {
     "end_time": "2020-02-15T14:17:45.455533Z",
     "start_time": "2020-02-15T14:17:45.451475Z"
    }
   },
   "outputs": [],
   "source": [
    "def binary_loss(X, Y, weights, alpha=0.00001):\n",
    "    prediction = predict_proba(X, weights)\n",
    "    # minimise the binary cross-entropy loss\n",
    "    #l = -np.dot(Y.T, np.log(prediction)) - np.dot(Y.T, np.log(1-prediction)) + alpha*np.dot(weights,weights.T)\n",
    "    l = 0\n",
    "    for i in range(len(Y)):                  # -ylog(y) - (1-y)log(1-y)\n",
    "        if Y[i] == 1:\n",
    "            l += -np.log(prediction[i])\n",
    "        else:\n",
    "            l += -np.log(1-prediction[i])\n",
    "    l += alpha * np.linalg.norm(weights)     # l2 regulization\n",
    "    \n",
    "    return l"
   ]
  },
  {
   "cell_type": "markdown",
   "metadata": {},
   "source": [
    "Now, you can implement Stochastic Gradient Descent to learn the weights of your sentiment classifier. The `SGD` function takes as input:\n",
    "\n",
    "- `X_tr`: array of training data (vectors)\n",
    "- `Y_tr`: labels of `X_tr`\n",
    "- `X_dev`: array of development (i.e. validation) data (vectors)\n",
    "- `Y_dev`: labels of `X_dev`\n",
    "- `lr`: learning rate\n",
    "- `alpha`: regularisation strength\n",
    "- `epochs`: number of full passes over the training data\n",
    "- `tolerance`: stop training if the difference between the current and previous validation loss is smaller than a threshold\n",
    "- `print_progress`: flag for printing the training progress (train/validation loss)\n",
    "\n",
    "\n",
    "and returns:\n",
    "\n",
    "- `weights`: the weights learned\n",
    "- `training_loss_history`: an array with the average losses of the whole training set after each epoch\n",
    "- `validation_loss_history`: an array with the average losses of the whole development set after each epoch"
   ]
  },
  {
   "cell_type": "code",
   "execution_count": 514,
   "metadata": {
    "ExecuteTime": {
     "end_time": "2020-02-15T14:17:45.968510Z",
     "start_time": "2020-02-15T14:17:45.958185Z"
    }
   },
   "outputs": [],
   "source": [
    "def SGD(X_tr, Y_tr, X_dev=[], Y_dev=[], loss=\"binary\", lr=0.1, alpha=0.00001, epochs=5, tolerance=0.0001, print_progress=True):\n",
    "    \n",
    "    weights = np.random.uniform(low=-0.1, high=0.1, size=(X_tr_tfidf.shape[1],)) #initialization\n",
    "    cur_loss_tr = 1.\n",
    "    cur_loss_dev = 1.\n",
    "    training_loss_history = []\n",
    "    validation_loss_history = []\n",
    "    \n",
    "    stop_flag = 0\n",
    "    idx = np.arange(len(X_tr))\n",
    "    np.random.shuffle(idx)                              # shuffle data\n",
    "    loop_tr = 10                                        # split train into 10 small set\n",
    "    batch_size = int(len(X_tr)/loop_tr)\n",
    "    len_dataset = len(X_tr)\n",
    "    for k in range(epochs):                             # multiple passes (epochs)\n",
    "        loss_count = 0\n",
    "        idx = np.arange(len(X_tr))\n",
    "        np.random.shuffle(idx)                          # shuffle data \n",
    "        for i in range(loop_tr):\n",
    "            temp_idx = idx[i*batch_size:(i+1)*batch_size]\n",
    "            temp_label = Y_tr[temp_idx]\n",
    "            temp_data = X_tr[temp_idx]\n",
    "            #update weights \n",
    "            weights = weights - lr * (np.dot(temp_data.T, (sigmoid(np.dot(temp_data, weights)) - temp_label)) + alpha * weights) \n",
    "            #Binary Cross-entropy loss function\n",
    "            loss_count += binary_loss(temp_data,temp_label, weights) #count\n",
    "        loss_dev = binary_loss(X_dev,Y_dev, weights)\n",
    "\n",
    "        threshold = 0.0001\n",
    "        if k > 1 and cur_loss_dev - loss_dev/Y_dev.shape[0] < threshold and stop_flag == 0:\n",
    "            stop_flag = 1\n",
    "        elif k > 1 and cur_loss_dev - loss_dev/Y_dev.shape[0] > threshold and stop_flag == 1:\n",
    "            stop_flag = 0 \n",
    "        elif k > 1 and cur_loss_dev - loss_dev/Y_dev.shape[0] < threshold and stop_flag == 1:\n",
    "            break \n",
    "        # stop training if the difference between the current and previous validation loss is smaller than a threshold\n",
    "        cur_loss_tr = loss_count/len_dataset\n",
    "        cur_loss_dev = loss_dev/Y_dev.shape[0]\n",
    "        print(f'Epoch{k}:training loss:{round(cur_loss_tr,4)},evaluating loss:{round(cur_loss_dev,4)}')\n",
    "        #print\n",
    "        \n",
    "        training_loss_history.append(cur_loss_tr)\n",
    "        validation_loss_history.append(cur_loss_dev)\n",
    "\n",
    "    return weights, training_loss_history, validation_loss_history"
   ]
  },
  {
   "cell_type": "markdown",
   "metadata": {},
   "source": [
    "## Train and Evaluate Logistic Regression with Count vectors\n",
    "\n",
    "First train the model using SGD:"
   ]
  },
  {
   "cell_type": "code",
   "execution_count": 398,
   "metadata": {
    "ExecuteTime": {
     "end_time": "2020-02-15T14:17:51.480197Z",
     "start_time": "2020-02-15T14:17:46.362729Z"
    },
    "scrolled": true
   },
   "outputs": [
    {
     "name": "stdout",
     "output_type": "stream",
     "text": [
      "Epoch0:training loss:0.8295,evaluating loss:0.7866\n",
      "Epoch1:training loss:0.7653,evaluating loss:0.7482\n",
      "Epoch2:training loss:0.7135,evaluating loss:0.7191\n",
      "Epoch3:training loss:0.6748,evaluating loss:0.6989\n",
      "Epoch4:training loss:0.6369,evaluating loss:0.6768\n",
      "Epoch5:training loss:0.607,evaluating loss:0.6584\n",
      "Epoch6:training loss:0.5819,evaluating loss:0.6434\n",
      "Epoch7:training loss:0.557,evaluating loss:0.6301\n",
      "Epoch8:training loss:0.5357,evaluating loss:0.6205\n",
      "Epoch9:training loss:0.5169,evaluating loss:0.6096\n",
      "Epoch10:training loss:0.4997,evaluating loss:0.5994\n",
      "Epoch11:training loss:0.4848,evaluating loss:0.5954\n",
      "Epoch12:training loss:0.4706,evaluating loss:0.584\n",
      "Epoch13:training loss:0.4587,evaluating loss:0.5783\n",
      "Epoch14:training loss:0.4471,evaluating loss:0.5718\n",
      "Epoch15:training loss:0.436,evaluating loss:0.5654\n",
      "Epoch16:training loss:0.426,evaluating loss:0.5612\n",
      "Epoch17:training loss:0.4154,evaluating loss:0.5553\n",
      "Epoch18:training loss:0.4065,evaluating loss:0.551\n",
      "Epoch19:training loss:0.3981,evaluating loss:0.5495\n",
      "Epoch20:training loss:0.3904,evaluating loss:0.5428\n",
      "Epoch21:training loss:0.3833,evaluating loss:0.5392\n",
      "Epoch22:training loss:0.376,evaluating loss:0.5364\n",
      "Epoch23:training loss:0.369,evaluating loss:0.5332\n",
      "Epoch24:training loss:0.3623,evaluating loss:0.5296\n",
      "Epoch25:training loss:0.357,evaluating loss:0.527\n",
      "Epoch26:training loss:0.3506,evaluating loss:0.5247\n",
      "Epoch27:training loss:0.3452,evaluating loss:0.5215\n",
      "Epoch28:training loss:0.3398,evaluating loss:0.5193\n",
      "Epoch29:training loss:0.3344,evaluating loss:0.5167\n",
      "Epoch30:training loss:0.3291,evaluating loss:0.5148\n",
      "Epoch31:training loss:0.3243,evaluating loss:0.5146\n",
      "Epoch32:training loss:0.3196,evaluating loss:0.5106\n",
      "Epoch33:training loss:0.3158,evaluating loss:0.5088\n",
      "Epoch34:training loss:0.3113,evaluating loss:0.5078\n",
      "Epoch35:training loss:0.3069,evaluating loss:0.5058\n",
      "Epoch36:training loss:0.3027,evaluating loss:0.5038\n",
      "Epoch37:training loss:0.2993,evaluating loss:0.5024\n",
      "Epoch38:training loss:0.2946,evaluating loss:0.5007\n",
      "Epoch39:training loss:0.2912,evaluating loss:0.4998\n",
      "Epoch40:training loss:0.2883,evaluating loss:0.4981\n",
      "Epoch41:training loss:0.2846,evaluating loss:0.4963\n",
      "Epoch42:training loss:0.2809,evaluating loss:0.4952\n",
      "Epoch43:training loss:0.2778,evaluating loss:0.4938\n",
      "Epoch44:training loss:0.2747,evaluating loss:0.4938\n",
      "Epoch45:training loss:0.2718,evaluating loss:0.4931\n",
      "Epoch46:training loss:0.2685,evaluating loss:0.4923\n",
      "Epoch47:training loss:0.2661,evaluating loss:0.4899\n",
      "Epoch48:training loss:0.2628,evaluating loss:0.4883\n",
      "Epoch49:training loss:0.2602,evaluating loss:0.4874\n",
      "Epoch50:training loss:0.2577,evaluating loss:0.4869\n",
      "Epoch51:training loss:0.2551,evaluating loss:0.4856\n",
      "Epoch52:training loss:0.2522,evaluating loss:0.4848\n",
      "Epoch53:training loss:0.2496,evaluating loss:0.4851\n",
      "Epoch54:training loss:0.2464,evaluating loss:0.4831\n",
      "Epoch55:training loss:0.2449,evaluating loss:0.4825\n",
      "Epoch56:training loss:0.2422,evaluating loss:0.4819\n",
      "Epoch57:training loss:0.2397,evaluating loss:0.4814\n",
      "Epoch58:training loss:0.238,evaluating loss:0.4805\n",
      "Epoch59:training loss:0.2356,evaluating loss:0.4808\n",
      "Epoch60:training loss:0.2331,evaluating loss:0.4787\n",
      "Epoch61:training loss:0.2313,evaluating loss:0.4781\n",
      "Epoch62:training loss:0.2296,evaluating loss:0.4779\n",
      "Epoch63:training loss:0.2273,evaluating loss:0.4773\n",
      "Epoch64:training loss:0.2255,evaluating loss:0.477\n",
      "Epoch65:training loss:0.2232,evaluating loss:0.4758\n",
      "Epoch66:training loss:0.2213,evaluating loss:0.4754\n",
      "Epoch67:training loss:0.2191,evaluating loss:0.4755\n",
      "Epoch68:training loss:0.2174,evaluating loss:0.4748\n",
      "Epoch69:training loss:0.2161,evaluating loss:0.474\n",
      "Epoch70:training loss:0.2142,evaluating loss:0.4732\n",
      "Epoch71:training loss:0.2125,evaluating loss:0.4731\n",
      "Epoch72:training loss:0.2109,evaluating loss:0.473\n",
      "Epoch73:training loss:0.2091,evaluating loss:0.4721\n",
      "Epoch74:training loss:0.2067,evaluating loss:0.4713\n",
      "Epoch75:training loss:0.2058,evaluating loss:0.471\n",
      "Epoch76:training loss:0.2044,evaluating loss:0.4709\n",
      "Epoch77:training loss:0.2021,evaluating loss:0.4702\n",
      "Epoch78:training loss:0.201,evaluating loss:0.4707\n",
      "Epoch79:training loss:0.1998,evaluating loss:0.4697\n",
      "Epoch80:training loss:0.1981,evaluating loss:0.4693\n",
      "Epoch81:training loss:0.1965,evaluating loss:0.4688\n",
      "Epoch82:training loss:0.1952,evaluating loss:0.4686\n",
      "Epoch83:training loss:0.1933,evaluating loss:0.4681\n",
      "Epoch84:training loss:0.1917,evaluating loss:0.4682\n",
      "Epoch85:training loss:0.1909,evaluating loss:0.4675\n",
      "Epoch86:training loss:0.1896,evaluating loss:0.4673\n",
      "Epoch87:training loss:0.1882,evaluating loss:0.4672\n",
      "Epoch88:training loss:0.1869,evaluating loss:0.4673\n",
      "Epoch89:training loss:0.1858,evaluating loss:0.4669\n",
      "Epoch90:training loss:0.1844,evaluating loss:0.4662\n",
      "Epoch91:training loss:0.1832,evaluating loss:0.4657\n",
      "Epoch92:training loss:0.1821,evaluating loss:0.4657\n",
      "Epoch93:training loss:0.1807,evaluating loss:0.4655\n",
      "Epoch94:training loss:0.1796,evaluating loss:0.4654\n",
      "Epoch95:training loss:0.1781,evaluating loss:0.4648\n",
      "Epoch96:training loss:0.1773,evaluating loss:0.465\n",
      "Epoch97:training loss:0.1758,evaluating loss:0.4644\n",
      "Epoch98:training loss:0.1745,evaluating loss:0.4643\n",
      "Epoch99:training loss:0.1737,evaluating loss:0.4643\n"
     ]
    }
   ],
   "source": [
    "w_count, loss_tr_count, dev_loss_count = SGD(X_tr_count, Y_tr, \n",
    "                                             X_dev=X_dev_count, \n",
    "                                             Y_dev=Y_dev, \n",
    "                                             lr=0.0001, \n",
    "                                             alpha=0.001, \n",
    "                                             epochs=100)"
   ]
  },
  {
   "cell_type": "markdown",
   "metadata": {},
   "source": [
    "Now plot the training and validation history per epoch. Does your model underfit, overfit or is it about right? Explain why."
   ]
  },
  {
   "cell_type": "code",
   "execution_count": 466,
   "metadata": {
    "ExecuteTime": {
     "end_time": "2020-02-15T14:17:51.598911Z",
     "start_time": "2020-02-15T14:17:51.482307Z"
    }
   },
   "outputs": [
    {
     "data": {
      "image/png": "[encoded data removed]",
      "text/plain": [
       "<Figure size 432x288 with 1 Axes>"
      ]
     },
     "metadata": {
      "needs_background": "light"
     },
     "output_type": "display_data"
    }
   ],
   "source": [
    "sub_axis = np.arange(len(loss_tr_count))\n",
    "plt.title('Training Monitoring')\n",
    "plt.plot(sub_axis, loss_tr_count, color='steelblue', label='training loss')\n",
    "plt.plot(sub_axis, dev_loss_count, color='orange', label='validation loss')\n",
    "plt.legend()\n",
    "plt.xlabel('epochs')\n",
    "plt.ylabel('loss')\n",
    "plt.show()"
   ]
  },
  {
   "cell_type": "markdown",
   "metadata": {
    "ExecuteTime": {
     "end_time": "2020-01-21T16:52:26.583150Z",
     "start_time": "2020-01-21T16:52:26.578754Z"
    }
   },
   "source": [
    "**<mark>Typical overfitting. Because validation loss becomes stable but training loss still decreases<mark>**"
   ]
  },
  {
   "cell_type": "markdown",
   "metadata": {},
   "source": [
    "Compute accuracy, precision, recall and F1-scores:"
   ]
  },
  {
   "cell_type": "code",
   "execution_count": 400,
   "metadata": {
    "ExecuteTime": {
     "end_time": "2020-02-15T14:37:40.569499Z",
     "start_time": "2020-02-15T14:37:40.566796Z"
    }
   },
   "outputs": [
    {
     "name": "stdout",
     "output_type": "stream",
     "text": [
      "Accuracy: 0.7925\n",
      "Precision: 0.7772511848341233\n",
      "Recall: 0.82\n",
      "F1-Score: 0.7980535279805353\n"
     ]
    }
   ],
   "source": [
    "preds_te_count = predict_class(X_te_count, w_count)\n",
    "print('Accuracy:', accuracy_score(Y_te,preds_te_count))\n",
    "print('Precision:', precision_score(Y_te,preds_te_count))\n",
    "print('Recall:', recall_score(Y_te,preds_te_count))\n",
    "print('F1-Score:', f1_score(Y_te,preds_te_count))"
   ]
  },
  {
   "cell_type": "markdown",
   "metadata": {},
   "source": [
    "Finally, print the top-10 words for the negative and positive class respectively."
   ]
  },
  {
   "cell_type": "code",
   "execution_count": 401,
   "metadata": {
    "ExecuteTime": {
     "end_time": "2020-02-15T14:37:07.638179Z",
     "start_time": "2020-02-15T14:37:07.635838Z"
    }
   },
   "outputs": [
    {
     "name": "stdout",
     "output_type": "stream",
     "text": [
      "['yet', 'hilarious', 'seen', 'way', 'see', 'pulp', 'right', 'others', 'well', 'great']\n"
     ]
    }
   ],
   "source": [
    "pos_10_idx = np.argsort(w_count[:])[-10:]\n",
    "pos_10_words = list(np.array(vocab)[pos_10_idx])\n",
    "print(pos_10_words)"
   ]
  },
  {
   "cell_type": "code",
   "execution_count": 402,
   "metadata": {
    "ExecuteTime": {
     "end_time": "2020-02-15T14:37:08.381103Z",
     "start_time": "2020-02-15T14:37:08.378641Z"
    }
   },
   "outputs": [
    {
     "name": "stdout",
     "output_type": "stream",
     "text": [
      "['bad', 'worst', 'only', 'looks', 'plot', 'director', 'script', 'mess', 'why', 'waste']\n"
     ]
    }
   ],
   "source": [
    "neg_10_idx = np.argsort(w_count[:])[:10]\n",
    "neg_10_words = list(np.array(vocab)[neg_10_idx])\n",
    "print(neg_10_words)"
   ]
  },
  {
   "cell_type": "markdown",
   "metadata": {},
   "source": [
    "If we were to apply the classifier we've learned into a different domain such laptop reviews or restaurant reviews, do you think these features would generalise well? Can you propose what features the classifier could pick up as important in the new domain?"
   ]
  },
  {
   "cell_type": "markdown",
   "metadata": {},
   "source": [
    "Provide your answer here..."
   ]
  },
  {
   "cell_type": "markdown",
   "metadata": {},
   "source": [
    "## Train and Evaluate Logistic Regression with TF.IDF vectors\n",
    "\n",
    "Follow the same steps as above (i.e. evaluating count n-gram representations).\n"
   ]
  },
  {
   "cell_type": "code",
   "execution_count": 430,
   "metadata": {
    "ExecuteTime": {
     "end_time": "2020-02-15T14:17:54.414637Z",
     "start_time": "2020-02-15T14:17:51.625934Z"
    },
    "scrolled": true
   },
   "outputs": [
    {
     "name": "stdout",
     "output_type": "stream",
     "text": [
      "Epoch0:training loss:1.2809,evaluating loss:1.3966\n",
      "Epoch1:training loss:1.0205,evaluating loss:1.2519\n",
      "Epoch2:training loss:0.8364,evaluating loss:1.1618\n",
      "Epoch3:training loss:0.7039,evaluating loss:1.0901\n",
      "Epoch4:training loss:0.6037,evaluating loss:1.0298\n",
      "Epoch5:training loss:0.5263,evaluating loss:0.9927\n",
      "Epoch6:training loss:0.4635,evaluating loss:0.9445\n",
      "Epoch7:training loss:0.4143,evaluating loss:0.9157\n",
      "Epoch8:training loss:0.3743,evaluating loss:0.8885\n",
      "Epoch9:training loss:0.3393,evaluating loss:0.8607\n",
      "Epoch10:training loss:0.3121,evaluating loss:0.8415\n",
      "Epoch11:training loss:0.2875,evaluating loss:0.8251\n",
      "Epoch12:training loss:0.2663,evaluating loss:0.8072\n",
      "Epoch13:training loss:0.2471,evaluating loss:0.7927\n",
      "Epoch14:training loss:0.2306,evaluating loss:0.779\n",
      "Epoch15:training loss:0.2158,evaluating loss:0.7633\n",
      "Epoch16:training loss:0.203,evaluating loss:0.7528\n",
      "Epoch17:training loss:0.1912,evaluating loss:0.7435\n",
      "Epoch18:training loss:0.1809,evaluating loss:0.7323\n",
      "Epoch19:training loss:0.1715,evaluating loss:0.7235\n",
      "Epoch20:training loss:0.1628,evaluating loss:0.716\n",
      "Epoch21:training loss:0.155,evaluating loss:0.7085\n",
      "Epoch22:training loss:0.1478,evaluating loss:0.7014\n",
      "Epoch23:training loss:0.1412,evaluating loss:0.6967\n",
      "Epoch24:training loss:0.1352,evaluating loss:0.6899\n",
      "Epoch25:training loss:0.1296,evaluating loss:0.6858\n",
      "Epoch26:training loss:0.1245,evaluating loss:0.6809\n",
      "Epoch27:training loss:0.1197,evaluating loss:0.6766\n",
      "Epoch28:training loss:0.1153,evaluating loss:0.6717\n",
      "Epoch29:training loss:0.1111,evaluating loss:0.6674\n",
      "Epoch30:training loss:0.1073,evaluating loss:0.6635\n",
      "Epoch31:training loss:0.1038,evaluating loss:0.6604\n",
      "Epoch32:training loss:0.1004,evaluating loss:0.657\n",
      "Epoch33:training loss:0.0972,evaluating loss:0.6534\n",
      "Epoch34:training loss:0.0942,evaluating loss:0.6508\n",
      "Epoch35:training loss:0.0914,evaluating loss:0.649\n",
      "Epoch36:training loss:0.0888,evaluating loss:0.6462\n",
      "Epoch37:training loss:0.0863,evaluating loss:0.6431\n",
      "Epoch38:training loss:0.084,evaluating loss:0.6411\n",
      "Epoch39:training loss:0.0817,evaluating loss:0.6384\n",
      "Epoch40:training loss:0.0796,evaluating loss:0.6361\n",
      "Epoch41:training loss:0.0776,evaluating loss:0.6345\n",
      "Epoch42:training loss:0.0757,evaluating loss:0.6324\n",
      "Epoch43:training loss:0.0739,evaluating loss:0.6308\n",
      "Epoch44:training loss:0.0722,evaluating loss:0.6295\n",
      "Epoch45:training loss:0.0705,evaluating loss:0.6275\n",
      "Epoch46:training loss:0.069,evaluating loss:0.6259\n",
      "Epoch47:training loss:0.0675,evaluating loss:0.6241\n",
      "Epoch48:training loss:0.0661,evaluating loss:0.6229\n",
      "Epoch49:training loss:0.0647,evaluating loss:0.6214\n"
     ]
    }
   ],
   "source": [
    "w_tfidf, trl, devl = SGD(X_tr_tfidf, Y_tr, \n",
    "                         X_dev=X_dev_tfidf, \n",
    "                         Y_dev=Y_dev, \n",
    "                         lr=0.0001, \n",
    "                         alpha=0.00001, \n",
    "                         epochs=50)"
   ]
  },
  {
   "cell_type": "markdown",
   "metadata": {},
   "source": [
    "Now plot the training and validation history per epoch. Does your model underfit, overfit or is it about right? Explain why."
   ]
  },
  {
   "cell_type": "code",
   "execution_count": 467,
   "metadata": {
    "ExecuteTime": {
     "end_time": "2020-02-15T14:17:54.517668Z",
     "start_time": "2020-02-15T14:17:54.417118Z"
    }
   },
   "outputs": [
    {
     "data": {
      "image/png": "[encoded data removed]",
      "text/plain": [
       "<Figure size 432x288 with 1 Axes>"
      ]
     },
     "metadata": {
      "needs_background": "light"
     },
     "output_type": "display_data"
    }
   ],
   "source": [
    "sub_axis = np.arange(len(trl))\n",
    "plt.title('Training Monitoring')\n",
    "plt.plot(sub_axis, trl, color='steelblue', label='training loss')\n",
    "plt.plot(sub_axis, devl, color='orange', label='validation loss')\n",
    "plt.legend()\n",
    "plt.xlabel('epochs')\n",
    "plt.ylabel('loss')\n",
    "plt.show()"
   ]
  },
  {
   "cell_type": "markdown",
   "metadata": {},
   "source": [
    "**<mark>It about right. Because both of them decrease and become stable at same time.<mark>**"
   ]
  },
  {
   "cell_type": "markdown",
   "metadata": {},
   "source": [
    "Compute accuracy, precision, recall and F1-scores:"
   ]
  },
  {
   "cell_type": "code",
   "execution_count": 440,
   "metadata": {
    "ExecuteTime": {
     "end_time": "2020-02-15T14:37:56.489814Z",
     "start_time": "2020-02-15T14:37:56.487014Z"
    }
   },
   "outputs": [
    {
     "name": "stdout",
     "output_type": "stream",
     "text": [
      "Accuracy: 0.775\n",
      "Precision: 0.7722772277227723\n",
      "Recall: 0.78\n",
      "F1-Score: 0.7761194029850748\n"
     ]
    }
   ],
   "source": [
    "preds_te_count = predict_class(X_te_tfidf, w_tfidf)\n",
    "print('Accuracy:', accuracy_score(Y_te,preds_te_count))\n",
    "print('Precision:', precision_score(Y_te,preds_te_count))\n",
    "print('Recall:', recall_score(Y_te,preds_te_count))\n",
    "print('F1-Score:', f1_score(Y_te,preds_te_count))"
   ]
  },
  {
   "cell_type": "markdown",
   "metadata": {},
   "source": [
    "Print top-10 most positive and negative words:"
   ]
  },
  {
   "cell_type": "code",
   "execution_count": 441,
   "metadata": {
    "ExecuteTime": {
     "end_time": "2020-02-15T14:38:17.845485Z",
     "start_time": "2020-02-15T14:38:17.842557Z"
    }
   },
   "outputs": [
    {
     "name": "stdout",
     "output_type": "stream",
     "text": [
      "['neighbor', 'fortunately', 'seen', 'rocky', 'definitely', 'rare', ('may', 'not'), 'memorable', 'overall', 'terrific']\n"
     ]
    }
   ],
   "source": [
    "pos_10_idx = np.argsort(w_tfidf[:])[-10:]\n",
    "pos_10_words = list(np.array(vocab)[pos_10_idx])\n",
    "print(pos_10_words)"
   ]
  },
  {
   "cell_type": "code",
   "execution_count": 442,
   "metadata": {
    "ExecuteTime": {
     "end_time": "2020-02-15T14:38:22.781128Z",
     "start_time": "2020-02-15T14:38:22.778590Z"
    }
   },
   "outputs": [
    {
     "name": "stdout",
     "output_type": "stream",
     "text": [
      "['disappointing', 'looks', 'stupid', 'mess', 'road', 'attempt', ('but', 'only'), 'least', 'none', ('bad', 'movie')]\n"
     ]
    }
   ],
   "source": [
    "neg_10_idx = np.argsort(w_tfidf[:])[:10]\n",
    "neg_10_words = list(np.array(vocab)[neg_10_idx])\n",
    "print(neg_10_words)"
   ]
  },
  {
   "cell_type": "markdown",
   "metadata": {},
   "source": [
    "### Discuss how did you choose model hyperparameters (e.g. learning rate and regularisation strength)? What is the relation between training epochs and learning rate? How the regularisation strength affects performance?"
   ]
  },
  {
   "cell_type": "markdown",
   "metadata": {},
   "source": [
    "Using a 0.01 or 0.001 lr value to try. Then, decrease it and find a good value. Learning rate controls how quickly the model is adapted to the problem. Small learning rate need more learning epochs. Regularisation strength can help to avoid overfitting. "
   ]
  },
  {
   "cell_type": "markdown",
   "metadata": {},
   "source": [
    "\n",
    "\n",
    "## Full Results\n",
    "\n",
    "Add here your results:\n",
    "\n",
    "| LR | Precision  | Recall  | F1-Score  |\n",
    "|:-:|:-:|:-:|:-:|\n",
    "| BOW-count  |0.78|0.82|0.80|\n",
    "| BOW-tfidf  |0.77|0.78|0.78|\n"
   ]
  },
  {
   "cell_type": "markdown",
   "metadata": {},
   "source": [
    "# Multi-class Logistic Regression \n",
    "\n",
    "Now you need to train a Multiclass Logistic Regression (MLR) Classifier by extending the Binary model you developed above. You will use the MLR model to perform topic classification on the AG news dataset consisting of three classes:"
   ]
  },
  {
   "cell_type": "markdown",
   "metadata": {},
   "source": [
    "- Class 1: World\n",
    "- Class 2: Sports\n",
    "- Class 3: Business"
   ]
  },
  {
   "cell_type": "markdown",
   "metadata": {},
   "source": [
    "You need to follow the same process as in Task 1 for data processing and feature extraction by reusing the functions you wrote."
   ]
  },
  {
   "cell_type": "code",
   "execution_count": 559,
   "metadata": {
    "ExecuteTime": {
     "end_time": "2020-02-15T14:18:03.212229Z",
     "start_time": "2020-02-15T14:18:03.185261Z"
    }
   },
   "outputs": [],
   "source": [
    "# like Task1\n",
    "data_tr = pd.read_csv('./data_topic/train.csv', names=['label','text'])\n",
    "data_dev = pd.read_csv('./data_topic/dev.csv', names=['label','text'])\n",
    "data_test = pd.read_csv('./data_topic/test.csv', names=['label','text'])"
   ]
  },
  {
   "cell_type": "code",
   "execution_count": 560,
   "metadata": {
    "ExecuteTime": {
     "end_time": "2020-02-15T14:18:03.515585Z",
     "start_time": "2020-02-15T14:18:03.508299Z"
    }
   },
   "outputs": [
    {
     "data": {
      "text/html": [
       "<div>\n",
       "<style scoped>\n",
       "    .dataframe tbody tr th:only-of-type {\n",
       "        vertical-align: middle;\n",
       "    }\n",
       "\n",
       "    .dataframe tbody tr th {\n",
       "        vertical-align: top;\n",
       "    }\n",
       "\n",
       "    .dataframe thead th {\n",
       "        text-align: right;\n",
       "    }\n",
       "</style>\n",
       "<table border=\"1\" class=\"dataframe\">\n",
       "  <thead>\n",
       "    <tr style=\"text-align: right;\">\n",
       "      <th></th>\n",
       "      <th>label</th>\n",
       "      <th>text</th>\n",
       "    </tr>\n",
       "  </thead>\n",
       "  <tbody>\n",
       "    <tr>\n",
       "      <td>0</td>\n",
       "      <td>1</td>\n",
       "      <td>Reuters - Venezuelans turned out early\\and in ...</td>\n",
       "    </tr>\n",
       "    <tr>\n",
       "      <td>1</td>\n",
       "      <td>1</td>\n",
       "      <td>Reuters - South Korean police used water canno...</td>\n",
       "    </tr>\n",
       "    <tr>\n",
       "      <td>2</td>\n",
       "      <td>1</td>\n",
       "      <td>Reuters - Thousands of Palestinian\\prisoners i...</td>\n",
       "    </tr>\n",
       "    <tr>\n",
       "      <td>3</td>\n",
       "      <td>1</td>\n",
       "      <td>AFP - Sporadic gunfire and shelling took place...</td>\n",
       "    </tr>\n",
       "    <tr>\n",
       "      <td>4</td>\n",
       "      <td>1</td>\n",
       "      <td>AP - Dozens of Rwandan soldiers flew into Suda...</td>\n",
       "    </tr>\n",
       "  </tbody>\n",
       "</table>\n",
       "</div>"
      ],
      "text/plain": [
       "   label                                               text\n",
       "0      1  Reuters - Venezuelans turned out early\\and in ...\n",
       "1      1  Reuters - South Korean police used water canno...\n",
       "2      1  Reuters - Thousands of Palestinian\\prisoners i...\n",
       "3      1  AFP - Sporadic gunfire and shelling took place...\n",
       "4      1  AP - Dozens of Rwandan soldiers flew into Suda..."
      ]
     },
     "execution_count": 560,
     "metadata": {},
     "output_type": "execute_result"
    }
   ],
   "source": [
    "data_tr.head()"
   ]
  },
  {
   "cell_type": "code",
   "execution_count": 561,
   "metadata": {
    "ExecuteTime": {
     "end_time": "2020-02-15T14:18:03.806523Z",
     "start_time": "2020-02-15T14:18:03.798279Z"
    }
   },
   "outputs": [],
   "source": [
    "train_label = Y_tr = data_tr['label'].values\n",
    "train_text = X_tr_raw = list(data_tr['text'])\n",
    "train_text = X_tr_raw = [word.lower() for word in train_text] #lower case\n",
    "\n",
    "dev_label = Y_dev = data_dev['label'].values\n",
    "dev_text = X_dev_raw = list(data_dev['text'])\n",
    "dev_text = X_dev_raw = [word.lower() for word in dev_text]\n",
    "\n",
    "test_label = Y_te = data_test['label'].values\n",
    "test_text = X_te_raw = list(data_test['text'])\n",
    "test_text = X_te_raw = [word.lower() for word in test_text]"
   ]
  },
  {
   "cell_type": "code",
   "execution_count": 562,
   "metadata": {
    "ExecuteTime": {
     "end_time": "2020-02-15T14:18:04.508938Z",
     "start_time": "2020-02-15T14:18:04.171071Z"
    }
   },
   "outputs": [
    {
     "name": "stdout",
     "output_type": "stream",
     "text": [
      "5000\n",
      "\n",
      "['reuters', 'said', 'tuesday', 'wednesday', 'new', 'after', 'ap', 'athens', 'monday', 'first', 'two', 'york', 'over', ('new', 'york'), 'us', 'olympic', 'but', 'their', 'will', 'inc', 'more', 'year', 'oil', 'prices', 'company', 'world', 'than', 'aug', 'about', 'had', 'united', 'one', 'out', 'sunday', 'into', 'against', 'up', 'second', 'last', 'president', 'stocks', 'gold', 'team', ('new', 'york', 'reuters'), ('york', 'reuters'), 'when', 'three', 'night', 'time', 'no', 'yesterday', 'games', 'olympics', 'not', 'states', 'greece', 'off', 'iraq', 'washington', 'percent', ('united', 'states'), ('oil', 'prices'), 'home', 'day', 'google', 'public', ('athens', 'reuters'), 'record', 'week', 'men', 'government', 'win', ('said', 'tuesday'), 'american', 'won', 'years', 'all', 'billion', 'shares', 'city', 'offering', 'officials', 'would', 'today', 'final', 'afp', 'gt', 'people', 'lt', 'medal', 'corp', 'sales', 'country', 'back', 'four', 'high', 'investor', 'com', 'minister', 'reported']\n",
      "\n",
      "[('reuters', 631), ('said', 432), ('tuesday', 413), ('wednesday', 344), ('new', 325), ('after', 295), ('ap', 275), ('athens', 245), ('monday', 221), ('first', 210)]\n"
     ]
    }
   ],
   "source": [
    "vocab, df, ngram_counts = get_vocab(X_tr_raw, ngram_range=(1,3), keep_topN=5000, stop_words=stop_words)\n",
    "print(len(vocab))\n",
    "print()\n",
    "print(list(vocab)[:100])\n",
    "print()\n",
    "print(df.most_common()[:10])"
   ]
  },
  {
   "cell_type": "code",
   "execution_count": 563,
   "metadata": {
    "ExecuteTime": {
     "end_time": "2020-02-15T14:18:04.706802Z",
     "start_time": "2020-02-15T14:18:04.511061Z"
    }
   },
   "outputs": [
    {
     "name": "stdout",
     "output_type": "stream",
     "text": [
      "(2400, 5000)\n",
      "[[1. 0. 0. 0. 1. 0. 0. 0. 0. 0. 1. 0. 0. 0. 0. 0. 0. 0. 1. 0. 0. 0. 0. 0.\n",
      "  0. 0. 0. 0. 0. 0. 0. 0. 1. 1. 0. 0. 0. 0. 0. 1. 0. 0. 0. 0. 0. 0. 0. 0.\n",
      "  0. 0.]\n",
      " [1. 0. 0. 0. 0. 0. 0. 0. 0. 0. 0. 0. 0. 0. 0. 0. 0. 0. 0. 0. 1. 0. 0. 0.\n",
      "  0. 0. 0. 0. 0. 0. 0. 0. 0. 1. 0. 0. 0. 0. 0. 0. 0. 0. 0. 0. 0. 0. 0. 0.\n",
      "  0. 0.]]\n"
     ]
    }
   ],
   "source": [
    "word2id = {}\n",
    "for i in range(len(vocab)):\n",
    "    word2id[vocab[i]] = i\n",
    "\n",
    "id2word = {}\n",
    "id2word = vocab[:]\n",
    "# extract n-grams\n",
    "train_ngrams = data_ngrams(train_text) \n",
    "dev_ngrams = data_ngrams(dev_text)\n",
    "test_ngrams = data_ngrams(test_text)\n",
    "#use vectoriser\n",
    "X_tr_count = vectorise(train_ngrams,vocab)\n",
    "X_dev_count = vectorise(dev_ngrams,vocab)\n",
    "X_te_count = vectorise(test_ngrams,vocab)\n",
    "\n",
    "print(X_tr_count.shape)\n",
    "print(X_tr_count[:2,:50])"
   ]
  },
  {
   "cell_type": "code",
   "execution_count": 564,
   "metadata": {},
   "outputs": [],
   "source": [
    "df_vocab = np.zeros((len(vocab),))\n",
    "for j in range(len(train_ngrams)):\n",
    "    for i in range(len(vocab)):\n",
    "        if vocab[i] in train_ngrams[j]:\n",
    "            df_vocab[i] += 1               \n",
    "#idfs\n",
    "idfs = np.log(len(train_ngrams)/(df_vocab + 1))\n",
    "#tfidf\n",
    "X_tr_tfidf = X_tr_count * idfs             \n",
    "X_dev_tfidf = X_dev_count * idfs\n",
    "X_te_tfidf = X_te_count * idfs"
   ]
  },
  {
   "cell_type": "markdown",
   "metadata": {},
   "source": [
    "Now you need to change `SGD` to support multiclass datasets. First you need to develop a `softmax` function. It takes as input:\n",
    "\n",
    "- `z`: array of real numbers \n",
    "\n",
    "and returns:\n",
    "\n",
    "- `smax`: the softmax of `z`"
   ]
  },
  {
   "cell_type": "code",
   "execution_count": 565,
   "metadata": {
    "ExecuteTime": {
     "end_time": "2020-02-15T14:18:07.440998Z",
     "start_time": "2020-02-15T14:18:07.437915Z"
    }
   },
   "outputs": [],
   "source": [
    "def softmax(z):\n",
    "    \n",
    "    sum_exp = np.sum(np.exp(z),axis = -1)\n",
    "    smax =  np.exp(z) / np.expand_dims(sum_exp, -1)  # expend dimension\n",
    "    \n",
    "    return smax"
   ]
  },
  {
   "cell_type": "markdown",
   "metadata": {},
   "source": [
    "Then modify `predict_proba` and `predict_class` functions for the multiclass case:"
   ]
  },
  {
   "cell_type": "code",
   "execution_count": 566,
   "metadata": {
    "ExecuteTime": {
     "end_time": "2020-02-15T14:18:07.445451Z",
     "start_time": "2020-02-15T14:18:07.442851Z"
    }
   },
   "outputs": [],
   "source": [
    "def predict_proba(X, weights):\n",
    "    \n",
    "    preds_proba = softmax(np.dot(X, weights))\n",
    "    \n",
    "    return preds_proba"
   ]
  },
  {
   "cell_type": "code",
   "execution_count": 567,
   "metadata": {
    "ExecuteTime": {
     "end_time": "2020-02-15T14:18:07.449814Z",
     "start_time": "2020-02-15T14:18:07.447145Z"
    }
   },
   "outputs": [],
   "source": [
    "def predict_class(X, weights):\n",
    "    \n",
    "    preds_class = np.argmax(predict_proba(X, weights), axis = -1) + 1\n",
    "    \n",
    "    return preds_class"
   ]
  },
  {
   "cell_type": "markdown",
   "metadata": {},
   "source": [
    "Toy example and expected functionality of the functions above:"
   ]
  },
  {
   "cell_type": "code",
   "execution_count": 568,
   "metadata": {
    "ExecuteTime": {
     "end_time": "2020-02-15T14:18:08.059902Z",
     "start_time": "2020-02-15T14:18:08.056774Z"
    }
   },
   "outputs": [],
   "source": [
    "X = np.array([[0.1,0.2],[0.2,0.1],[0.1,-0.2]])\n",
    "w = np.array([[2,-5],[-5,2]])"
   ]
  },
  {
   "cell_type": "code",
   "execution_count": 569,
   "metadata": {
    "ExecuteTime": {
     "end_time": "2020-02-15T14:18:08.495464Z",
     "start_time": "2020-02-15T14:18:08.491074Z"
    }
   },
   "outputs": [
    {
     "data": {
      "text/plain": [
       "array([[0.33181223, 0.66818777],\n",
       "       [0.66818777, 0.33181223],\n",
       "       [0.89090318, 0.10909682]])"
      ]
     },
     "execution_count": 569,
     "metadata": {},
     "output_type": "execute_result"
    }
   ],
   "source": [
    "predict_proba(X, w)"
   ]
  },
  {
   "cell_type": "code",
   "execution_count": 570,
   "metadata": {
    "ExecuteTime": {
     "end_time": "2020-02-15T14:18:08.714215Z",
     "start_time": "2020-02-15T14:18:08.710098Z"
    }
   },
   "outputs": [
    {
     "data": {
      "text/plain": [
       "array([2, 1, 1])"
      ]
     },
     "execution_count": 570,
     "metadata": {},
     "output_type": "execute_result"
    }
   ],
   "source": [
    "predict_class(X, w)"
   ]
  },
  {
   "cell_type": "markdown",
   "metadata": {},
   "source": [
    "Now you need to compute the categorical cross entropy loss (extending the binary loss to support multiple classes)."
   ]
  },
  {
   "cell_type": "code",
   "execution_count": 571,
   "metadata": {
    "ExecuteTime": {
     "end_time": "2020-02-15T14:30:48.047338Z",
     "start_time": "2020-02-15T14:30:48.044395Z"
    }
   },
   "outputs": [],
   "source": [
    "def categorical_loss(X, Y, weights, num_classes=5, alpha=0.00001):\n",
    "    \n",
    "    prediction = predict_proba(X, weights)\n",
    "    l = 0\n",
    "    for i in range(X.shape[0]):                 \n",
    "        l += -np.log(prediction[i][Y[i]-1])\n",
    "    \n",
    "    l += alpha * np.linalg.norm(weights)\n",
    "    \n",
    "    return l\n",
    "    "
   ]
  },
  {
   "cell_type": "markdown",
   "metadata": {
    "ExecuteTime": {
     "end_time": "2020-02-15T14:08:59.937442Z",
     "start_time": "2020-02-15T14:08:59.932221Z"
    }
   },
   "source": [
    "Finally you need to modify SGD to support the categorical cross entropy loss:"
   ]
  },
  {
   "cell_type": "code",
   "execution_count": 572,
   "metadata": {
    "ExecuteTime": {
     "end_time": "2020-02-15T14:18:10.176885Z",
     "start_time": "2020-02-15T14:18:10.165021Z"
    }
   },
   "outputs": [],
   "source": [
    "def SGD(X_tr, Y_tr, X_dev=[], Y_dev=[], num_classes=5, lr=0.01, alpha=0.00001, epochs=5, tolerance=0.001, print_progress=True):\n",
    "    \n",
    "    weights = np.random.uniform(low=-0.1, high=0.1, size=(X_tr_tfidf.shape[1],3)) \n",
    "    cur_loss_tr = 1.\n",
    "    cur_loss_dev = 1.\n",
    "    training_loss_history = []\n",
    "    validation_loss_history = []\n",
    "    stop_flag = 0\n",
    "    idx = np.arange(len(X_tr))\n",
    "    np.random.shuffle(idx)                              \n",
    "    loop_tr = 10                                        \n",
    "    batch_size = int(len(X_tr)/loop_tr)\n",
    "    len_dataset = len(X_tr_count)\n",
    "    for k in range(epochs):                             \n",
    "        idx = np.arange(len(X_tr))\n",
    "        np.random.shuffle(idx)                          \n",
    "        for i in range(loop_tr):\n",
    "            temp_idx = idx[i*batch_size:(i+1)*batch_size]\n",
    "            temp_label = Y_tr[temp_idx] - 1\n",
    "            temp_data = X_tr[temp_idx]\n",
    "            onehot_label = np.eye(3)[temp_label] # one_hot vector\n",
    "            weights = weights - lr * (np.dot(temp_data.T, (sigmoid(np.dot(temp_data, weights)) - onehot_label)) + alpha * weights) \n",
    "        loss_dev = categorical_loss(X_dev,Y_dev, weights)\n",
    "        loss_tr = categorical_loss(X_tr,Y_tr, weights)\n",
    "        \n",
    "        threshold = 0.0001\n",
    "        if k > 1 and cur_loss_dev - loss_dev/Y_dev.shape[0] < threshold and stop_flag == 0:\n",
    "            stop_flag = 1\n",
    "        elif k > 1 and cur_loss_dev - loss_dev/Y_dev.shape[0] > threshold and stop_flag == 1:\n",
    "            stop_flag = 0 \n",
    "        elif k > 1 and cur_loss_dev - loss_dev/Y_dev.shape[0] < threshold and stop_flag == 1:\n",
    "            break \n",
    "        cur_loss_tr = loss_tr/len_dataset\n",
    "        cur_loss_dev = loss_dev/Y_dev.shape[0]\n",
    "        print(f'Epoch{k}:training loss:{round(cur_loss_tr,4)},evaluating loss:{round(cur_loss_dev,4)}')\n",
    "        training_loss_history.append(cur_loss_tr)\n",
    "        validation_loss_history.append(cur_loss_dev)\n",
    "\n",
    "    return weights, training_loss_history, validation_loss_history"
   ]
  },
  {
   "cell_type": "markdown",
   "metadata": {
    "ExecuteTime": {
     "end_time": "2020-02-15T14:10:15.772383Z",
     "start_time": "2020-02-15T14:10:15.767855Z"
    }
   },
   "source": [
    "Now you are ready to train and evaluate you MLR following the same steps as in Task 1 for both Count and tfidf features:"
   ]
  },
  {
   "cell_type": "code",
   "execution_count": 637,
   "metadata": {
    "ExecuteTime": {
     "end_time": "2020-02-15T14:18:55.324956Z",
     "start_time": "2020-02-15T14:18:11.720952Z"
    }
   },
   "outputs": [
    {
     "name": "stdout",
     "output_type": "stream",
     "text": [
      "Epoch0:training loss:1.0934,evaluating loss:1.0942\n",
      "Epoch1:training loss:1.0653,evaluating loss:1.0796\n",
      "Epoch2:training loss:1.0399,evaluating loss:1.0659\n",
      "Epoch3:training loss:1.0166,evaluating loss:1.0529\n",
      "Epoch4:training loss:0.9952,evaluating loss:1.0405\n",
      "Epoch5:training loss:0.9753,evaluating loss:1.0286\n",
      "Epoch6:training loss:0.9567,evaluating loss:1.0171\n",
      "Epoch7:training loss:0.9392,evaluating loss:1.0061\n",
      "Epoch8:training loss:0.9227,evaluating loss:0.9954\n",
      "Epoch9:training loss:0.907,evaluating loss:0.9851\n",
      "Epoch10:training loss:0.892,evaluating loss:0.975\n",
      "Epoch11:training loss:0.8778,evaluating loss:0.9653\n",
      "Epoch12:training loss:0.8642,evaluating loss:0.9558\n",
      "Epoch13:training loss:0.8512,evaluating loss:0.9467\n",
      "Epoch14:training loss:0.8387,evaluating loss:0.9377\n",
      "Epoch15:training loss:0.8267,evaluating loss:0.929\n",
      "Epoch16:training loss:0.8152,evaluating loss:0.9205\n",
      "Epoch17:training loss:0.8042,evaluating loss:0.9122\n",
      "Epoch18:training loss:0.7935,evaluating loss:0.9042\n",
      "Epoch19:training loss:0.7833,evaluating loss:0.8963\n",
      "Epoch20:training loss:0.7734,evaluating loss:0.8886\n",
      "Epoch21:training loss:0.7639,evaluating loss:0.8811\n",
      "Epoch22:training loss:0.7547,evaluating loss:0.8738\n",
      "Epoch23:training loss:0.7458,evaluating loss:0.8667\n",
      "Epoch24:training loss:0.7372,evaluating loss:0.8597\n",
      "Epoch25:training loss:0.7289,evaluating loss:0.8529\n",
      "Epoch26:training loss:0.7208,evaluating loss:0.8462\n",
      "Epoch27:training loss:0.7131,evaluating loss:0.8397\n",
      "Epoch28:training loss:0.7055,evaluating loss:0.8333\n",
      "Epoch29:training loss:0.6982,evaluating loss:0.8271\n",
      "Epoch30:training loss:0.6911,evaluating loss:0.821\n",
      "Epoch31:training loss:0.6842,evaluating loss:0.815\n",
      "Epoch32:training loss:0.6775,evaluating loss:0.8091\n",
      "Epoch33:training loss:0.671,evaluating loss:0.8034\n",
      "Epoch34:training loss:0.6647,evaluating loss:0.7978\n",
      "Epoch35:training loss:0.6586,evaluating loss:0.7923\n",
      "Epoch36:training loss:0.6526,evaluating loss:0.7869\n",
      "Epoch37:training loss:0.6468,evaluating loss:0.7816\n",
      "Epoch38:training loss:0.6411,evaluating loss:0.7765\n",
      "Epoch39:training loss:0.6356,evaluating loss:0.7714\n",
      "Epoch40:training loss:0.6303,evaluating loss:0.7664\n",
      "Epoch41:training loss:0.625,evaluating loss:0.7616\n",
      "Epoch42:training loss:0.6199,evaluating loss:0.7568\n",
      "Epoch43:training loss:0.615,evaluating loss:0.7521\n",
      "Epoch44:training loss:0.6101,evaluating loss:0.7475\n",
      "Epoch45:training loss:0.6054,evaluating loss:0.743\n",
      "Epoch46:training loss:0.6008,evaluating loss:0.7386\n",
      "Epoch47:training loss:0.5963,evaluating loss:0.7342\n",
      "Epoch48:training loss:0.5918,evaluating loss:0.73\n",
      "Epoch49:training loss:0.5875,evaluating loss:0.7258\n",
      "Epoch50:training loss:0.5833,evaluating loss:0.7217\n",
      "Epoch51:training loss:0.5792,evaluating loss:0.7176\n",
      "Epoch52:training loss:0.5752,evaluating loss:0.7136\n",
      "Epoch53:training loss:0.5712,evaluating loss:0.7097\n",
      "Epoch54:training loss:0.5674,evaluating loss:0.7059\n",
      "Epoch55:training loss:0.5636,evaluating loss:0.7021\n",
      "Epoch56:training loss:0.5599,evaluating loss:0.6984\n",
      "Epoch57:training loss:0.5563,evaluating loss:0.6948\n",
      "Epoch58:training loss:0.5527,evaluating loss:0.6912\n",
      "Epoch59:training loss:0.5492,evaluating loss:0.6877\n",
      "Epoch60:training loss:0.5458,evaluating loss:0.6842\n",
      "Epoch61:training loss:0.5425,evaluating loss:0.6808\n",
      "Epoch62:training loss:0.5392,evaluating loss:0.6775\n",
      "Epoch63:training loss:0.536,evaluating loss:0.6742\n",
      "Epoch64:training loss:0.5328,evaluating loss:0.6709\n",
      "Epoch65:training loss:0.5297,evaluating loss:0.6677\n",
      "Epoch66:training loss:0.5267,evaluating loss:0.6646\n",
      "Epoch67:training loss:0.5237,evaluating loss:0.6615\n",
      "Epoch68:training loss:0.5208,evaluating loss:0.6584\n",
      "Epoch69:training loss:0.5179,evaluating loss:0.6554\n",
      "Epoch70:training loss:0.515,evaluating loss:0.6525\n",
      "Epoch71:training loss:0.5123,evaluating loss:0.6496\n",
      "Epoch72:training loss:0.5095,evaluating loss:0.6467\n",
      "Epoch73:training loss:0.5068,evaluating loss:0.6439\n",
      "Epoch74:training loss:0.5042,evaluating loss:0.6411\n",
      "Epoch75:training loss:0.5016,evaluating loss:0.6383\n",
      "Epoch76:training loss:0.499,evaluating loss:0.6356\n",
      "Epoch77:training loss:0.4965,evaluating loss:0.633\n",
      "Epoch78:training loss:0.494,evaluating loss:0.6303\n",
      "Epoch79:training loss:0.4916,evaluating loss:0.6277\n",
      "Epoch80:training loss:0.4892,evaluating loss:0.6252\n",
      "Epoch81:training loss:0.4869,evaluating loss:0.6227\n",
      "Epoch82:training loss:0.4845,evaluating loss:0.6202\n",
      "Epoch83:training loss:0.4822,evaluating loss:0.6177\n",
      "Epoch84:training loss:0.48,evaluating loss:0.6153\n",
      "Epoch85:training loss:0.4778,evaluating loss:0.6129\n",
      "Epoch86:training loss:0.4756,evaluating loss:0.6106\n",
      "Epoch87:training loss:0.4734,evaluating loss:0.6083\n",
      "Epoch88:training loss:0.4713,evaluating loss:0.606\n",
      "Epoch89:training loss:0.4692,evaluating loss:0.6037\n",
      "Epoch90:training loss:0.4671,evaluating loss:0.6015\n",
      "Epoch91:training loss:0.4651,evaluating loss:0.5993\n",
      "Epoch92:training loss:0.4631,evaluating loss:0.5971\n",
      "Epoch93:training loss:0.4611,evaluating loss:0.595\n",
      "Epoch94:training loss:0.4592,evaluating loss:0.5929\n",
      "Epoch95:training loss:0.4572,evaluating loss:0.5908\n",
      "Epoch96:training loss:0.4553,evaluating loss:0.5887\n",
      "Epoch97:training loss:0.4534,evaluating loss:0.5867\n",
      "Epoch98:training loss:0.4516,evaluating loss:0.5846\n",
      "Epoch99:training loss:0.4498,evaluating loss:0.5827\n",
      "Epoch100:training loss:0.448,evaluating loss:0.5807\n",
      "Epoch101:training loss:0.4462,evaluating loss:0.5788\n",
      "Epoch102:training loss:0.4444,evaluating loss:0.5768\n",
      "Epoch103:training loss:0.4427,evaluating loss:0.5749\n",
      "Epoch104:training loss:0.441,evaluating loss:0.5731\n",
      "Epoch105:training loss:0.4393,evaluating loss:0.5712\n",
      "Epoch106:training loss:0.4376,evaluating loss:0.5694\n",
      "Epoch107:training loss:0.4359,evaluating loss:0.5676\n",
      "Epoch108:training loss:0.4343,evaluating loss:0.5658\n",
      "Epoch109:training loss:0.4327,evaluating loss:0.564\n",
      "Epoch110:training loss:0.4311,evaluating loss:0.5623\n",
      "Epoch111:training loss:0.4295,evaluating loss:0.5606\n",
      "Epoch112:training loss:0.428,evaluating loss:0.5589\n",
      "Epoch113:training loss:0.4264,evaluating loss:0.5572\n",
      "Epoch114:training loss:0.4249,evaluating loss:0.5555\n",
      "Epoch115:training loss:0.4234,evaluating loss:0.5539\n",
      "Epoch116:training loss:0.4219,evaluating loss:0.5522\n",
      "Epoch117:training loss:0.4204,evaluating loss:0.5506\n",
      "Epoch118:training loss:0.419,evaluating loss:0.549\n",
      "Epoch119:training loss:0.4175,evaluating loss:0.5474\n",
      "Epoch120:training loss:0.4161,evaluating loss:0.5459\n",
      "Epoch121:training loss:0.4147,evaluating loss:0.5443\n",
      "Epoch122:training loss:0.4133,evaluating loss:0.5428\n",
      "Epoch123:training loss:0.4119,evaluating loss:0.5413\n",
      "Epoch124:training loss:0.4106,evaluating loss:0.5398\n",
      "Epoch125:training loss:0.4092,evaluating loss:0.5383\n",
      "Epoch126:training loss:0.4079,evaluating loss:0.5368\n",
      "Epoch127:training loss:0.4065,evaluating loss:0.5354\n",
      "Epoch128:training loss:0.4052,evaluating loss:0.5339\n",
      "Epoch129:training loss:0.4039,evaluating loss:0.5325\n",
      "Epoch130:training loss:0.4026,evaluating loss:0.5311\n",
      "Epoch131:training loss:0.4014,evaluating loss:0.5297\n",
      "Epoch132:training loss:0.4001,evaluating loss:0.5284\n",
      "Epoch133:training loss:0.3989,evaluating loss:0.527\n",
      "Epoch134:training loss:0.3976,evaluating loss:0.5256\n",
      "Epoch135:training loss:0.3964,evaluating loss:0.5243\n",
      "Epoch136:training loss:0.3952,evaluating loss:0.523\n",
      "Epoch137:training loss:0.394,evaluating loss:0.5217\n",
      "Epoch138:training loss:0.3928,evaluating loss:0.5204\n",
      "Epoch139:training loss:0.3916,evaluating loss:0.5191\n",
      "Epoch140:training loss:0.3905,evaluating loss:0.5178\n",
      "Epoch141:training loss:0.3893,evaluating loss:0.5165\n",
      "Epoch142:training loss:0.3882,evaluating loss:0.5153\n",
      "Epoch143:training loss:0.387,evaluating loss:0.514\n",
      "Epoch144:training loss:0.3859,evaluating loss:0.5128\n",
      "Epoch145:training loss:0.3848,evaluating loss:0.5116\n",
      "Epoch146:training loss:0.3837,evaluating loss:0.5104\n",
      "Epoch147:training loss:0.3826,evaluating loss:0.5092\n",
      "Epoch148:training loss:0.3815,evaluating loss:0.508\n",
      "Epoch149:training loss:0.3804,evaluating loss:0.5069\n",
      "Epoch150:training loss:0.3793,evaluating loss:0.5057\n",
      "Epoch151:training loss:0.3783,evaluating loss:0.5045\n",
      "Epoch152:training loss:0.3772,evaluating loss:0.5034\n",
      "Epoch153:training loss:0.3762,evaluating loss:0.5023\n",
      "Epoch154:training loss:0.3752,evaluating loss:0.5012\n",
      "Epoch155:training loss:0.3741,evaluating loss:0.5\n",
      "Epoch156:training loss:0.3731,evaluating loss:0.4989\n",
      "Epoch157:training loss:0.3721,evaluating loss:0.4979\n"
     ]
    },
    {
     "name": "stdout",
     "output_type": "stream",
     "text": [
      "Epoch158:training loss:0.3711,evaluating loss:0.4968\n",
      "Epoch159:training loss:0.3701,evaluating loss:0.4957\n",
      "Epoch160:training loss:0.3691,evaluating loss:0.4946\n",
      "Epoch161:training loss:0.3682,evaluating loss:0.4936\n",
      "Epoch162:training loss:0.3672,evaluating loss:0.4926\n",
      "Epoch163:training loss:0.3662,evaluating loss:0.4915\n",
      "Epoch164:training loss:0.3653,evaluating loss:0.4905\n",
      "Epoch165:training loss:0.3643,evaluating loss:0.4895\n",
      "Epoch166:training loss:0.3634,evaluating loss:0.4885\n",
      "Epoch167:training loss:0.3625,evaluating loss:0.4875\n",
      "Epoch168:training loss:0.3615,evaluating loss:0.4865\n",
      "Epoch169:training loss:0.3606,evaluating loss:0.4855\n",
      "Epoch170:training loss:0.3597,evaluating loss:0.4845\n",
      "Epoch171:training loss:0.3588,evaluating loss:0.4835\n",
      "Epoch172:training loss:0.3579,evaluating loss:0.4826\n",
      "Epoch173:training loss:0.357,evaluating loss:0.4816\n",
      "Epoch174:training loss:0.3561,evaluating loss:0.4807\n",
      "Epoch175:training loss:0.3553,evaluating loss:0.4798\n",
      "Epoch176:training loss:0.3544,evaluating loss:0.4788\n",
      "Epoch177:training loss:0.3535,evaluating loss:0.4779\n",
      "Epoch178:training loss:0.3527,evaluating loss:0.477\n",
      "Epoch179:training loss:0.3518,evaluating loss:0.4761\n",
      "Epoch180:training loss:0.351,evaluating loss:0.4752\n",
      "Epoch181:training loss:0.3501,evaluating loss:0.4743\n",
      "Epoch182:training loss:0.3493,evaluating loss:0.4734\n",
      "Epoch183:training loss:0.3485,evaluating loss:0.4725\n",
      "Epoch184:training loss:0.3477,evaluating loss:0.4717\n",
      "Epoch185:training loss:0.3468,evaluating loss:0.4708\n",
      "Epoch186:training loss:0.346,evaluating loss:0.4699\n",
      "Epoch187:training loss:0.3452,evaluating loss:0.4691\n",
      "Epoch188:training loss:0.3444,evaluating loss:0.4682\n",
      "Epoch189:training loss:0.3436,evaluating loss:0.4674\n",
      "Epoch190:training loss:0.3428,evaluating loss:0.4666\n",
      "Epoch191:training loss:0.3421,evaluating loss:0.4658\n",
      "Epoch192:training loss:0.3413,evaluating loss:0.4649\n",
      "Epoch193:training loss:0.3405,evaluating loss:0.4641\n",
      "Epoch194:training loss:0.3397,evaluating loss:0.4633\n",
      "Epoch195:training loss:0.339,evaluating loss:0.4625\n",
      "Epoch196:training loss:0.3382,evaluating loss:0.4617\n",
      "Epoch197:training loss:0.3375,evaluating loss:0.4609\n",
      "Epoch198:training loss:0.3367,evaluating loss:0.4601\n",
      "Epoch199:training loss:0.336,evaluating loss:0.4594\n"
     ]
    }
   ],
   "source": [
    "w_count, loss_tr_count, dev_loss_count = SGD(X_tr_count, Y_tr, \n",
    "                                             X_dev=X_dev_count, \n",
    "                                             Y_dev=Y_dev,\n",
    "                                             num_classes=3,\n",
    "                                             lr=0.0001, \n",
    "                                             alpha=0.001, \n",
    "                                             epochs=200)"
   ]
  },
  {
   "cell_type": "markdown",
   "metadata": {},
   "source": [
    "Plot training and validation process and explain if your model overfit, underfit or is about right:"
   ]
  },
  {
   "cell_type": "code",
   "execution_count": 696,
   "metadata": {
    "ExecuteTime": {
     "end_time": "2020-02-15T14:31:09.903453Z",
     "start_time": "2020-02-15T14:31:09.901360Z"
    },
    "scrolled": false
   },
   "outputs": [
    {
     "data": {
      "image/png": "[encoded data removed]",
      "text/plain": [
       "<Figure size 432x288 with 1 Axes>"
      ]
     },
     "metadata": {
      "needs_background": "light"
     },
     "output_type": "display_data"
    }
   ],
   "source": [
    "sub_axis = np.arange(len(loss_tr_count))\n",
    "plt.title('Training Monitoring')\n",
    "plt.plot(sub_axis, loss_tr_count, color='steelblue', label='training loss')\n",
    "plt.plot(sub_axis, dev_loss_count, color='orange', label='validation loss')\n",
    "plt.legend()\n",
    "plt.xlabel('epochs')\n",
    "plt.ylabel('loss')\n",
    "plt.show()"
   ]
  },
  {
   "cell_type": "markdown",
   "metadata": {},
   "source": [
    "<mark>Right. Decrease in the meantime. <mark>"
   ]
  },
  {
   "cell_type": "markdown",
   "metadata": {},
   "source": [
    "Compute accuracy, precision, recall and F1-scores:"
   ]
  },
  {
   "cell_type": "code",
   "execution_count": 697,
   "metadata": {},
   "outputs": [
    {
     "name": "stdout",
     "output_type": "stream",
     "text": [
      "Accuracy: 0.8433333333333334\n",
      "Precision: 0.8456270292207791\n",
      "Recall: 0.8433333333333334\n",
      "F1-Score: 0.8417577258947558\n"
     ]
    }
   ],
   "source": [
    "preds_te_count = predict_class(X_te_count, w_count)\n",
    "print('Accuracy:', accuracy_score(Y_te,preds_te_count))\n",
    "print('Precision:', precision_score(Y_te,preds_te_count,average = 'macro'))\n",
    "print('Recall:', recall_score(Y_te,preds_te_count,average = 'macro'))\n",
    "print('F1-Score:', f1_score(Y_te,preds_te_count,average = 'macro'))"
   ]
  },
  {
   "cell_type": "markdown",
   "metadata": {},
   "source": [
    "Print the top-10 words for each class respectively."
   ]
  },
  {
   "cell_type": "code",
   "execution_count": 698,
   "metadata": {},
   "outputs": [
    {
     "name": "stdout",
     "output_type": "stream",
     "text": [
      "class1: ['region', 'iraqi', 'najaf', 'murder', 'troops', 'said', 'people', 'president', 'afp', 'minister']\n",
      "class2: ['ap', 'when', 'game', 'olympics', 'games', 'win', ('athens', 'reuters'), 'team', 'olympic', 'athens']\n",
      "class3: ['billion', 'corp', 'largest', 'profit', 'market', 'business', 'prices', 'oil', 'inc', 'company']\n"
     ]
    }
   ],
   "source": [
    "#positive\n",
    "pos_idx_1 = np.argsort(w_count[:,0])[-10:]\n",
    "pos_idx_2 = np.argsort(w_count[:,1])[-10:]\n",
    "pos_idx_3 = np.argsort(w_count[:,2])[-10:]\n",
    "pos_10_words_1 = list(np.array(vocab)[pos_idx_1])\n",
    "pos_10_words_2 = list(np.array(vocab)[pos_idx_2])\n",
    "pos_10_words_3 = list(np.array(vocab)[pos_idx_3])\n",
    "print('class1:',pos_10_words_1)\n",
    "print('class2:',pos_10_words_2)\n",
    "print('class3:',pos_10_words_3)"
   ]
  },
  {
   "cell_type": "code",
   "execution_count": 699,
   "metadata": {},
   "outputs": [
    {
     "name": "stdout",
     "output_type": "stream",
     "text": [
      "class1: ['company', 'athens', 'when', 'olympic', 'team', 'inc', 'corp', 'reuters', ('athens', 'reuters'), 'time']\n",
      "class2: ['said', 'company', 'oil', 'reuters', 'government', 'iraq', 'prices', 'inc', 'afp', 'president']\n",
      "class3: ['ap', 'athens', 'olympic', 'sunday', 'two', 'afp', 'monday', 'first', 'night', 'team']\n"
     ]
    }
   ],
   "source": [
    "#negative \n",
    "neg_idx_1 = np.argsort(w_count[:,0])[:10]\n",
    "neg_idx_2 = np.argsort(w_count[:,1])[:10]\n",
    "neg_idx_3 = np.argsort(w_count[:,2])[:10]\n",
    "neg_10_words_1 = list(np.array(vocab)[neg_idx_1])\n",
    "neg_10_words_2 = list(np.array(vocab)[neg_idx_2])\n",
    "neg_10_words_3 = list(np.array(vocab)[neg_idx_3])\n",
    "print('class1:',neg_10_words_1)\n",
    "print('class2:',neg_10_words_2)\n",
    "print('class3:',neg_10_words_3)"
   ]
  },
  {
   "cell_type": "code",
   "execution_count": 688,
   "metadata": {},
   "outputs": [
    {
     "name": "stdout",
     "output_type": "stream",
     "text": [
      "Epoch0:training loss:1.1506,evaluating loss:1.2375\n",
      "Epoch1:training loss:0.9514,evaluating loss:1.1059\n",
      "Epoch2:training loss:0.8128,evaluating loss:1.0042\n",
      "Epoch3:training loss:0.7114,evaluating loss:0.9236\n",
      "Epoch4:training loss:0.6347,evaluating loss:0.8583\n",
      "Epoch5:training loss:0.5747,evaluating loss:0.8042\n",
      "Epoch6:training loss:0.5268,evaluating loss:0.7587\n",
      "Epoch7:training loss:0.4876,evaluating loss:0.72\n",
      "Epoch8:training loss:0.4548,evaluating loss:0.6867\n",
      "Epoch9:training loss:0.427,evaluating loss:0.6578\n",
      "Epoch10:training loss:0.4029,evaluating loss:0.6326\n",
      "Epoch11:training loss:0.3819,evaluating loss:0.6104\n",
      "Epoch12:training loss:0.3634,evaluating loss:0.5909\n",
      "Epoch13:training loss:0.3469,evaluating loss:0.5733\n",
      "Epoch14:training loss:0.3321,evaluating loss:0.5575\n",
      "Epoch15:training loss:0.3187,evaluating loss:0.5434\n",
      "Epoch16:training loss:0.3064,evaluating loss:0.5305\n",
      "Epoch17:training loss:0.2952,evaluating loss:0.5188\n",
      "Epoch18:training loss:0.2849,evaluating loss:0.5081\n",
      "Epoch19:training loss:0.2754,evaluating loss:0.4983\n",
      "Epoch20:training loss:0.2665,evaluating loss:0.4893\n",
      "Epoch21:training loss:0.2582,evaluating loss:0.481\n",
      "Epoch22:training loss:0.2505,evaluating loss:0.4732\n",
      "Epoch23:training loss:0.2432,evaluating loss:0.466\n",
      "Epoch24:training loss:0.2364,evaluating loss:0.4593\n",
      "Epoch25:training loss:0.2299,evaluating loss:0.4531\n",
      "Epoch26:training loss:0.2239,evaluating loss:0.4472\n",
      "Epoch27:training loss:0.2181,evaluating loss:0.4417\n",
      "Epoch28:training loss:0.2127,evaluating loss:0.4365\n",
      "Epoch29:training loss:0.2075,evaluating loss:0.4316\n",
      "Epoch30:training loss:0.2025,evaluating loss:0.427\n",
      "Epoch31:training loss:0.1978,evaluating loss:0.4227\n",
      "Epoch32:training loss:0.1933,evaluating loss:0.4185\n",
      "Epoch33:training loss:0.189,evaluating loss:0.4146\n",
      "Epoch34:training loss:0.1849,evaluating loss:0.4109\n",
      "Epoch35:training loss:0.1809,evaluating loss:0.4074\n",
      "Epoch36:training loss:0.1771,evaluating loss:0.404\n",
      "Epoch37:training loss:0.1734,evaluating loss:0.4008\n",
      "Epoch38:training loss:0.1699,evaluating loss:0.3977\n",
      "Epoch39:training loss:0.1665,evaluating loss:0.3948\n",
      "Epoch40:training loss:0.1633,evaluating loss:0.392\n",
      "Epoch41:training loss:0.1601,evaluating loss:0.3894\n",
      "Epoch42:training loss:0.1571,evaluating loss:0.3868\n",
      "Epoch43:training loss:0.1541,evaluating loss:0.3844\n",
      "Epoch44:training loss:0.1513,evaluating loss:0.382\n",
      "Epoch45:training loss:0.1486,evaluating loss:0.3797\n",
      "Epoch46:training loss:0.1459,evaluating loss:0.3775\n",
      "Epoch47:training loss:0.1433,evaluating loss:0.3755\n",
      "Epoch48:training loss:0.1408,evaluating loss:0.3735\n",
      "Epoch49:training loss:0.1384,evaluating loss:0.3715\n",
      "Epoch50:training loss:0.1361,evaluating loss:0.3696\n",
      "Epoch51:training loss:0.1338,evaluating loss:0.3678\n",
      "Epoch52:training loss:0.1316,evaluating loss:0.3661\n",
      "Epoch53:training loss:0.1295,evaluating loss:0.3644\n",
      "Epoch54:training loss:0.1274,evaluating loss:0.3628\n",
      "Epoch55:training loss:0.1254,evaluating loss:0.3612\n",
      "Epoch56:training loss:0.1234,evaluating loss:0.3597\n",
      "Epoch57:training loss:0.1215,evaluating loss:0.3582\n",
      "Epoch58:training loss:0.1197,evaluating loss:0.3568\n",
      "Epoch59:training loss:0.1179,evaluating loss:0.3555\n",
      "Epoch60:training loss:0.1161,evaluating loss:0.3541\n",
      "Epoch61:training loss:0.1144,evaluating loss:0.3529\n",
      "Epoch62:training loss:0.1127,evaluating loss:0.3516\n",
      "Epoch63:training loss:0.1111,evaluating loss:0.3504\n",
      "Epoch64:training loss:0.1095,evaluating loss:0.3492\n",
      "Epoch65:training loss:0.108,evaluating loss:0.3481\n",
      "Epoch66:training loss:0.1065,evaluating loss:0.347\n",
      "Epoch67:training loss:0.105,evaluating loss:0.3459\n",
      "Epoch68:training loss:0.1036,evaluating loss:0.3449\n",
      "Epoch69:training loss:0.1022,evaluating loss:0.3439\n",
      "Epoch70:training loss:0.1008,evaluating loss:0.3429\n",
      "Epoch71:training loss:0.0995,evaluating loss:0.342\n",
      "Epoch72:training loss:0.0982,evaluating loss:0.341\n",
      "Epoch73:training loss:0.0969,evaluating loss:0.3401\n",
      "Epoch74:training loss:0.0956,evaluating loss:0.3392\n",
      "Epoch75:training loss:0.0944,evaluating loss:0.3384\n",
      "Epoch76:training loss:0.0932,evaluating loss:0.3376\n",
      "Epoch77:training loss:0.092,evaluating loss:0.3368\n",
      "Epoch78:training loss:0.0909,evaluating loss:0.336\n",
      "Epoch79:training loss:0.0898,evaluating loss:0.3352\n",
      "Epoch80:training loss:0.0887,evaluating loss:0.3345\n",
      "Epoch81:training loss:0.0876,evaluating loss:0.3338\n",
      "Epoch82:training loss:0.0866,evaluating loss:0.3331\n",
      "Epoch83:training loss:0.0856,evaluating loss:0.3324\n",
      "Epoch84:training loss:0.0846,evaluating loss:0.3317\n",
      "Epoch85:training loss:0.0836,evaluating loss:0.331\n",
      "Epoch86:training loss:0.0826,evaluating loss:0.3304\n",
      "Epoch87:training loss:0.0817,evaluating loss:0.3298\n",
      "Epoch88:training loss:0.0807,evaluating loss:0.3292\n",
      "Epoch89:training loss:0.0798,evaluating loss:0.3286\n",
      "Epoch90:training loss:0.079,evaluating loss:0.328\n",
      "Epoch91:training loss:0.0781,evaluating loss:0.3275\n",
      "Epoch92:training loss:0.0772,evaluating loss:0.3269\n",
      "Epoch93:training loss:0.0764,evaluating loss:0.3264\n",
      "Epoch94:training loss:0.0756,evaluating loss:0.3258\n",
      "Epoch95:training loss:0.0748,evaluating loss:0.3253\n",
      "Epoch96:training loss:0.074,evaluating loss:0.3248\n",
      "Epoch97:training loss:0.0732,evaluating loss:0.3243\n",
      "Epoch98:training loss:0.0724,evaluating loss:0.3239\n",
      "Epoch99:training loss:0.0717,evaluating loss:0.3234\n"
     ]
    }
   ],
   "source": [
    "w_tfidf, trl, devl = SGD(X_tr_tfidf, Y_tr, \n",
    "                         X_dev=X_dev_tfidf, \n",
    "                         Y_dev=Y_dev, \n",
    "                         lr=0.0001, \n",
    "                         alpha=0.001, \n",
    "                         epochs=100)"
   ]
  },
  {
   "cell_type": "code",
   "execution_count": 690,
   "metadata": {},
   "outputs": [
    {
     "data": {
      "image/png": "[encoded data removed]",
      "text/plain": [
       "<Figure size 432x288 with 1 Axes>"
      ]
     },
     "metadata": {
      "needs_background": "light"
     },
     "output_type": "display_data"
    }
   ],
   "source": [
    "sub_axis = np.arange(len(trl))\n",
    "plt.title('Training Monitoring')\n",
    "plt.plot(sub_axis, trl, color='steelblue', label='training loss')\n",
    "plt.plot(sub_axis, devl, color='orange', label='validation loss')\n",
    "plt.legend()\n",
    "plt.xlabel('epochs')\n",
    "plt.ylabel('loss')\n",
    "plt.show()"
   ]
  },
  {
   "cell_type": "markdown",
   "metadata": {},
   "source": [
    "<mark>Right<mark>"
   ]
  },
  {
   "cell_type": "code",
   "execution_count": 693,
   "metadata": {
    "ExecuteTime": {
     "end_time": "2020-02-15T14:32:12.606498Z",
     "start_time": "2020-02-15T14:32:12.604164Z"
    },
    "scrolled": true
   },
   "outputs": [
    {
     "name": "stdout",
     "output_type": "stream",
     "text": [
      "Accuracy: 0.86\n",
      "Precision: 0.86121524577172\n",
      "Recall: 0.86\n",
      "F1-Score: 0.8596256972734114\n"
     ]
    }
   ],
   "source": [
    "preds_te_count = predict_class(X_te_tfidf, w_tfidf)\n",
    "print('Accuracy:', accuracy_score(Y_te,preds_te_count))\n",
    "print('Precision:', precision_score(Y_te,preds_te_count,average='macro'))\n",
    "print('Recall:', recall_score(Y_te,preds_te_count,average='macro'))\n",
    "print('F1-Score:', f1_score(Y_te,preds_te_count,average='macro'))"
   ]
  },
  {
   "cell_type": "markdown",
   "metadata": {},
   "source": [
    "Print the top-10 words for each class respectively."
   ]
  },
  {
   "cell_type": "code",
   "execution_count": 694,
   "metadata": {
    "ExecuteTime": {
     "end_time": "2020-02-15T14:32:26.224693Z",
     "start_time": "2020-02-15T14:32:26.221886Z"
    }
   },
   "outputs": [
    {
     "name": "stdout",
     "output_type": "stream",
     "text": [
      "class1: [('consumer', 'price'), 'killed', 'india', ('said', 'monday'), 'militants', 'murder', 'najaf', 'israeli', 'state', 'afp']\n",
      "class2: ['win', 'ap', 'golf', 'game', 'games', ('athens', 'reuters'), 'coach', 'olympic', 'team', 'athens']\n",
      "class3: ['billion', 'service', 'your', 'corp', 'google', 'oil', 'million', 'sales', 'business', 'company']\n"
     ]
    }
   ],
   "source": [
    "#positive\n",
    "pos_idx_1 = np.argsort(w_tfidf[:,0])[-10:]\n",
    "pos_idx_2 = np.argsort(w_tfidf[:,1])[-10:]\n",
    "pos_idx_3 = np.argsort(w_tfidf[:,2])[-10:]\n",
    "pos_10_words_1 = list(np.array(vocab)[pos_idx_1])\n",
    "pos_10_words_2 = list(np.array(vocab)[pos_idx_2])\n",
    "pos_10_words_3 = list(np.array(vocab)[pos_idx_3])\n",
    "print('class1:',pos_10_words_1)\n",
    "print('class2:',pos_10_words_2)\n",
    "print('class3:',pos_10_words_3)"
   ]
  },
  {
   "cell_type": "code",
   "execution_count": 695,
   "metadata": {},
   "outputs": [
    {
     "name": "stdout",
     "output_type": "stream",
     "text": [
      "class1: ['company', ('athens', 'reuters'), 'when', 'team', 'business', 'market', 'england', 'quarter', 'corp', 'july']\n",
      "class2: ['said', 'company', 'president', ('athens', 'greece'), 'prices', 'oil', 'afp', 'group', 'federal', 'troops']\n",
      "class3: ['ap', 'athens', 'monday', 'afp', 'gold', 'leader', 'coach', 'left', 'night', 'men']\n"
     ]
    }
   ],
   "source": [
    "#negative \n",
    "neg_idx_1 = np.argsort(w_tfidf[:,0])[:10]\n",
    "neg_idx_2 = np.argsort(w_tfidf[:,1])[:10]\n",
    "neg_idx_3 = np.argsort(w_tfidf[:,2])[:10]\n",
    "neg_10_words_1 = list(np.array(vocab)[neg_idx_1])\n",
    "neg_10_words_2 = list(np.array(vocab)[neg_idx_2])\n",
    "neg_10_words_3 = list(np.array(vocab)[neg_idx_3])\n",
    "print('class1:',neg_10_words_1)\n",
    "print('class2:',neg_10_words_2)\n",
    "print('class3:',neg_10_words_3)"
   ]
  },
  {
   "cell_type": "markdown",
   "metadata": {},
   "source": [
    "### Discuss how did you choose model hyperparameters (e.g. learning rate and regularisation strength)? What is the relation between training epochs and learning rate? How the regularisation strength affects performance?"
   ]
  },
  {
   "cell_type": "markdown",
   "metadata": {
    "ExecuteTime": {
     "end_time": "2020-02-15T14:16:19.856538Z",
     "start_time": "2020-02-15T14:16:19.852547Z"
    }
   },
   "source": [
    "When choose a lr, just from 0.01 to try, it is too large, then try 0.001, 0.0001, if it is small, just make it a little large. But if it is too small, it need more time to converge.\n",
    "The relation between training ephochs and lr: a large lr need little ephochs, on the contrary, a little lr need more ephochs.\n",
    "The regularisation strength can improve the model's performance, reducing overfitting"
   ]
  },
  {
   "cell_type": "markdown",
   "metadata": {},
   "source": [
    "### Now evaluate BOW-tfidf..."
   ]
  },
  {
   "cell_type": "markdown",
   "metadata": {
    "ExecuteTime": {
     "end_time": "2020-02-15T14:16:42.567569Z",
     "start_time": "2020-02-15T14:16:42.562560Z"
    }
   },
   "source": [
    "## Full Results\n",
    "\n",
    "Add here your results:\n",
    "\n",
    "| LR | Precision  | Recall  | F1-Score  |\n",
    "|:-:|:-:|:-:|:-:|\n",
    "| BOW-count  |0.84|0.84|0.84|\n",
    "| BOW-tfidf  |0.86|0.86|0.86|\n"
   ]
  },
  {
   "cell_type": "code",
   "execution_count": null,
   "metadata": {},
   "outputs": [],
   "source": []
  }
 ],
 "metadata": {
  "kernelspec": {
   "display_name": "Python 3",
   "language": "python",
   "name": "python3"
  },
  "language_info": {
   "codemirror_mode": {
    "name": "ipython",
    "version": 3
   },
   "file_extension": ".py",
   "mimetype": "text/x-python",
   "name": "python",
   "nbconvert_exporter": "python",
   "pygments_lexer": "ipython3",
   "version": "3.7.4"
  }
 },
 "nbformat": 4,
 "nbformat_minor": 2
}
